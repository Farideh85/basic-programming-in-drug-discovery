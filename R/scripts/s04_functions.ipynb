{
 "cells": [
  {
   "cell_type": "markdown",
   "metadata": {},
   "source": [
    "## functions \n",
    "\n",
    "We have come across many functions already. It is good to be aware of the origin of functions. R has a system to look for functions in different environments, this is to ensure identical function names from different packages do not interfere with one another.  \n",
    "The base R functions, like `mean`, `sample`, `print`  etc come with every installation of R.  \n",
    "Functions created by package developers become available after loading a package.  \n",
    "User defined packages are created by the user during a R session. \n",
    "To define your own function use the following syntax:  "
   ]
  },
  {
   "cell_type": "code",
   "execution_count": null,
   "metadata": {},
   "outputs": [],
   "source": [
    "my_function <- function(input_arguments) {\n",
    "# code that does stuf with input_arguments and returns something\n",
    "  return(output)\n",
    "}\n",
    "my_function(input_arguments = 5)"
   ]
  },
  {
   "cell_type": "markdown",
   "metadata": {},
   "source": [
    "A working function: "
   ]
  },
  {
   "cell_type": "code",
   "execution_count": null,
   "metadata": {},
   "outputs": [],
   "source": [
    "sum_two_numbers <- function(a, b) {\n",
    "  output <- a + b\n",
    "  return(output)\n",
    "}\n",
    "\n",
    "# After the function is defined you can use the function:  \n",
    "sum_two_numbers(a = 5, b = 6)"
   ]
  },
  {
   "cell_type": "markdown",
   "metadata": {},
   "source": [
    "It is good practice to be explicit, however this also works:  "
   ]
  },
  {
   "cell_type": "code",
   "execution_count": null,
   "metadata": {},
   "outputs": [],
   "source": [
    "sum_two_numbers <- function(a, b) {\n",
    "  a + b\n",
    "  }\n",
    "\n",
    "sum_two_numbers(5, 6)"
   ]
  },
  {
   "cell_type": "markdown",
   "metadata": {},
   "source": [
    "We will have to delve into environments first before we can continue with functions  \n",
    "\n",
    "### packages & environments & namespaces \n",
    "\n",
    "In R it is relatively straightforward to create you own package. If accepted by the maintainers of CRAN, the repository for R packages, it will become available for anyone by a simple call to the `install.packages()` function! But you can also put your package or scripts on Git Hub, and make it available that way.  \n",
    "With a simple call to the explicit function name (no parenthesis), for example `mean` you can see the `environment: namespace:base` - which means the function is available after installing R.  \n",
    "Now try to make a call to `gather`. \n"
   ]
  },
  {
   "cell_type": "code",
   "execution_count": 7,
   "metadata": {},
   "outputs": [
    {
     "ename": "ERROR",
     "evalue": "Error in eval(expr, envir, enclos): object 'gather' not found\n",
     "output_type": "error",
     "traceback": [
      "Error in eval(expr, envir, enclos): object 'gather' not found\nTraceback:\n"
     ]
    }
   ],
   "source": [
    "gather"
   ]
  },
  {
   "cell_type": "markdown",
   "metadata": {},
   "source": [
    "Indeed, \"object `gather` not found\".  \n",
    "Install the package once (this is already done for us), and then load the package in each new R session:"
   ]
  },
  {
   "cell_type": "code",
   "execution_count": null,
   "metadata": {},
   "outputs": [],
   "source": [
    "#install.packages(\"tidyr\")"
   ]
  },
  {
   "cell_type": "markdown",
   "metadata": {},
   "source": [
    "After installing a package, the package will be located in your local `library` folder. Which you can find by typing `.libPaths()`. However we are working on a server now in JupyterLab so this might not work now."
   ]
  },
  {
   "cell_type": "code",
   "execution_count": 4,
   "metadata": {},
   "outputs": [
    {
     "data": {
      "text/html": [
       "'D:/applicaties/R3.5.1/library'"
      ],
      "text/latex": [
       "'D:/applicaties/R3.5.1/library'"
      ],
      "text/markdown": [
       "'D:/applicaties/R3.5.1/library'"
      ],
      "text/plain": [
       "[1] \"D:/applicaties/R3.5.1/library\""
      ]
     },
     "metadata": {},
     "output_type": "display_data"
    }
   ],
   "source": [
    ".libPaths()"
   ]
  },
  {
   "cell_type": "code",
   "execution_count": null,
   "metadata": {},
   "outputs": [],
   "source": [
    "dir(.libPaths())"
   ]
  },
  {
   "cell_type": "markdown",
   "metadata": {},
   "source": [
    "After installation and loading the package the functions from the package wil be available. For example the `gather` function is from the package `tidyr`:   "
   ]
  },
  {
   "cell_type": "code",
   "execution_count": 9,
   "metadata": {},
   "outputs": [],
   "source": [
    " library(tidyr)"
   ]
  },
  {
   "cell_type": "markdown",
   "metadata": {},
   "source": [
    "Now we type `gather`:  "
   ]
  },
  {
   "cell_type": "code",
   "execution_count": 10,
   "metadata": {},
   "outputs": [
    {
     "data": {
      "text/html": [
       "<pre class=language-r><code>function (data, key = \"key\", value = \"value\", ..., na.rm = FALSE, \n",
       "<span style=white-space:pre-wrap>    convert = FALSE, factor_key = FALSE) </span>\n",
       "{\n",
       "<span style=white-space:pre-wrap>    UseMethod(\"gather\")</span>\n",
       "}</code></pre>"
      ],
      "text/latex": [
       "\\begin{minted}{r}\n",
       "function (data, key = \"key\", value = \"value\", ..., na.rm = FALSE, \n",
       "    convert = FALSE, factor\\_key = FALSE) \n",
       "\\{\n",
       "    UseMethod(\"gather\")\n",
       "\\}\n",
       "\\end{minted}"
      ],
      "text/markdown": [
       "```r\n",
       "function (data, key = \"key\", value = \"value\", ..., na.rm = FALSE, \n",
       "    convert = FALSE, factor_key = FALSE) \n",
       "{\n",
       "    UseMethod(\"gather\")\n",
       "}\n",
       "```"
      ],
      "text/plain": [
       "function (data, key = \"key\", value = \"value\", ..., na.rm = FALSE, \n",
       "    convert = FALSE, factor_key = FALSE) \n",
       "{\n",
       "    UseMethod(\"gather\")\n",
       "}\n",
       "<bytecode: 0x0af21108>\n",
       "<environment: namespace:tidyr>"
      ]
     },
     "metadata": {},
     "output_type": "display_data"
    }
   ],
   "source": [
    "gather"
   ]
  },
  {
   "cell_type": "markdown",
   "metadata": {},
   "source": [
    "You get the source code and at the end you see the function is from the pracma namespace. One final remark on environments: When you try to evaluate a function (or any object for that matter) R will search through the environments in a certain order and use the first it finds. To find out where and in what order R will search you can use:  "
   ]
  },
  {
   "cell_type": "code",
   "execution_count": 11,
   "metadata": {},
   "outputs": [
    {
     "data": {
      "text/html": [
       "<ol class=list-inline>\n",
       "\t<li>'.GlobalEnv'</li>\n",
       "\t<li>'D:/applicaties/R3.5.1/library/tidyr'</li>\n",
       "\t<li>'jupyter:irkernel'</li>\n",
       "\t<li>'D:/applicaties/R3.5.1/library/stats'</li>\n",
       "\t<li>'D:/applicaties/R3.5.1/library/graphics'</li>\n",
       "\t<li>'D:/applicaties/R3.5.1/library/grDevices'</li>\n",
       "\t<li>'D:/applicaties/R3.5.1/library/utils'</li>\n",
       "\t<li>'D:/applicaties/R3.5.1/library/datasets'</li>\n",
       "\t<li>'D:/applicaties/R3.5.1/library/methods'</li>\n",
       "\t<li>'Autoloads'</li>\n",
       "\t<li>'D:/applicaties/R3.5.1/library/base'</li>\n",
       "</ol>\n"
      ],
      "text/latex": [
       "\\begin{enumerate*}\n",
       "\\item '.GlobalEnv'\n",
       "\\item 'D:/applicaties/R3.5.1/library/tidyr'\n",
       "\\item 'jupyter:irkernel'\n",
       "\\item 'D:/applicaties/R3.5.1/library/stats'\n",
       "\\item 'D:/applicaties/R3.5.1/library/graphics'\n",
       "\\item 'D:/applicaties/R3.5.1/library/grDevices'\n",
       "\\item 'D:/applicaties/R3.5.1/library/utils'\n",
       "\\item 'D:/applicaties/R3.5.1/library/datasets'\n",
       "\\item 'D:/applicaties/R3.5.1/library/methods'\n",
       "\\item 'Autoloads'\n",
       "\\item 'D:/applicaties/R3.5.1/library/base'\n",
       "\\end{enumerate*}\n"
      ],
      "text/markdown": [
       "1. '.GlobalEnv'\n",
       "2. 'D:/applicaties/R3.5.1/library/tidyr'\n",
       "3. 'jupyter:irkernel'\n",
       "4. 'D:/applicaties/R3.5.1/library/stats'\n",
       "5. 'D:/applicaties/R3.5.1/library/graphics'\n",
       "6. 'D:/applicaties/R3.5.1/library/grDevices'\n",
       "7. 'D:/applicaties/R3.5.1/library/utils'\n",
       "8. 'D:/applicaties/R3.5.1/library/datasets'\n",
       "9. 'D:/applicaties/R3.5.1/library/methods'\n",
       "10. 'Autoloads'\n",
       "11. 'D:/applicaties/R3.5.1/library/base'\n",
       "\n",
       "\n"
      ],
      "text/plain": [
       " [1] \".GlobalEnv\"                             \n",
       " [2] \"D:/applicaties/R3.5.1/library/tidyr\"    \n",
       " [3] \"jupyter:irkernel\"                       \n",
       " [4] \"D:/applicaties/R3.5.1/library/stats\"    \n",
       " [5] \"D:/applicaties/R3.5.1/library/graphics\" \n",
       " [6] \"D:/applicaties/R3.5.1/library/grDevices\"\n",
       " [7] \"D:/applicaties/R3.5.1/library/utils\"    \n",
       " [8] \"D:/applicaties/R3.5.1/library/datasets\" \n",
       " [9] \"D:/applicaties/R3.5.1/library/methods\"  \n",
       "[10] \"Autoloads\"                              \n",
       "[11] \"D:/applicaties/R3.5.1/library/base\"     "
      ]
     },
     "metadata": {},
     "output_type": "display_data"
    }
   ],
   "source": [
    "searchpaths()"
   ]
  },
  {
   "cell_type": "markdown",
   "metadata": {},
   "source": [
    "However it is important to realize if a call is made within a function, this environment is searched first! Thus, also functions have there own environment, which only exists inside the function where the call is made. Here is an example of how this works, make sure to understand this as it is important: "
   ]
  },
  {
   "cell_type": "code",
   "execution_count": null,
   "metadata": {},
   "outputs": [],
   "source": [
    "a <- 1\n",
    "\n",
    "my_fun <- function(input) {\n",
    "  a <- 5\n",
    "  output <- a * input\n",
    "return(output)\n",
    "  }\n",
    "\n",
    "my_fun(input = 1)\n",
    "\n",
    "\n",
    "my_fun2 <- function(input) {\n",
    "  \n",
    "  output <- a * input\n",
    "return(output)\n",
    "  }\n",
    "\n",
    "my_fun2(input = 1)"
   ]
  },
  {
   "cell_type": "markdown",
   "metadata": {},
   "source": [
    "So `my_fun` finds `a` in it's own environment, but `my_fun2` does not so it searches outside the function environment. \n",
    "R is an interactive programming language, the danger with interactive programming is that you might have used certain variable names before and forgot about it. Which can easily happen during extensive data analysis projects. This is why it is good practice not to clutter your R-memory with variables. Keep it clean by using functions. Observe how defining a variable in a function is not stored in global R memory:"
   ]
  },
  {
   "cell_type": "code",
   "execution_count": null,
   "metadata": {},
   "outputs": [],
   "source": [
    "my_fun3 <- function( b0, b1, b2, x) {\n",
    "  y <-  b1*x + b2*x\n",
    "  output = y + b1\n",
    "return(y)\n",
    "  }\n",
    "\n",
    "my_fun3(b0 = 2, b1 = 0.1, b2 = 0.5, x = 1:10)\n",
    "\n",
    "b0\n",
    "b1\n",
    "b2\n",
    "x\n",
    "y\n",
    "output"
   ]
  },
  {
   "cell_type": "markdown",
   "metadata": {},
   "source": [
    "Notice how none of the variables exist! If you did not use a function, R memory would be cluttered already.  \n",
    "There are more reasons functions are useful, they are easy to reuse, and needed for functional programming, which we go into in the next section.  \n",
    "\n",
    "By the way, you can see your R memory and the objects that live inside in the top right panel in `Global Environment`. You can also type `ls()`  \n",
    "\n",
    "* exercise: create a function with input arguments your name, age and weight. In the function body calculate your BMI `weight in kg`/ `(height in cm)^2`. Store your name, age, weight and BMI in a named list and return this list. "
   ]
  },
  {
   "cell_type": "code",
   "execution_count": null,
   "metadata": {},
   "outputs": [],
   "source": []
  },
  {
   "cell_type": "markdown",
   "metadata": {},
   "source": [
    "### functional programming: apply family  \n",
    "Functional programming: \"Functions that do stuff with or use other functions\" is close enough for us.  \n",
    "Two important functions to this end are `lapply` and `sapply`. The difference is only in how they output the result. `lapply` outputs a list, and `sapply` tries to format the output - which often wont' be satisfactory - so try `sapply` first, then `lapply`.  \n",
    "To quickly check the classes of the columns of a data frame:"
   ]
  },
  {
   "cell_type": "code",
   "execution_count": null,
   "metadata": {},
   "outputs": [],
   "source": [
    "sapply(my_dataframe, class)"
   ]
  },
  {
   "cell_type": "markdown",
   "metadata": {},
   "source": [
    "As you can see, the arguments are: first the object to perform a function over, then the function that is called per sub index (in this case the columns) in the object. For `lists` it will be each slot:"
   ]
  },
  {
   "cell_type": "code",
   "execution_count": null,
   "metadata": {},
   "outputs": [],
   "source": [
    "sapply(my_list, class)"
   ]
  },
  {
   "cell_type": "markdown",
   "metadata": {},
   "source": [
    "You can also use sapply instead of loops:"
   ]
  },
  {
   "cell_type": "code",
   "execution_count": null,
   "metadata": {},
   "outputs": [],
   "source": [
    "sapply(1:10, function(i) { i * 2})"
   ]
  },
  {
   "cell_type": "markdown",
   "metadata": {},
   "source": [
    "This might be a tricky one to see at first, but what happens is that sapply subsets the columns , list entries or entries in a vector, and feeds this 1 by 1 to the function. In the last example we simply defined our own function, and gave the fed-subsets a name: `i` - which we can then continue to use in our function.  \n",
    "\n",
    "* exercise: Define a function that adds a value to each subset of the vector `1:10`. Use `sapply` to do this. The value that you add should be an argument to the function   "
   ]
  },
  {
   "cell_type": "code",
   "execution_count": null,
   "metadata": {},
   "outputs": [],
   "source": []
  },
  {
   "cell_type": "markdown",
   "metadata": {},
   "source": [
    "* exercise: calculate the summary of each `iris` column using sapply or lapply using the `summary()` function  "
   ]
  },
  {
   "cell_type": "code",
   "execution_count": null,
   "metadata": {},
   "outputs": [],
   "source": []
  },
  {
   "cell_type": "markdown",
   "metadata": {},
   "source": [
    "Hopefully you noticed that if you want to specify some arguments to the function within an apply type of function, you need to explicitly name the subsets fed into the function by the apply function. You can do this by writing the whole function: `function(x) { function code or existing function name which used the x argument which contains the fed subset }`"
   ]
  },
  {
   "cell_type": "code",
   "execution_count": null,
   "metadata": {},
   "outputs": [],
   "source": []
  }
 ],
 "metadata": {
  "kernelspec": {
   "display_name": "R",
   "language": "R",
   "name": "ir"
  },
  "language_info": {
   "codemirror_mode": "r",
   "file_extension": ".r",
   "mimetype": "text/x-r-source",
   "name": "R",
   "pygments_lexer": "r",
   "version": "3.5.1"
  }
 },
 "nbformat": 4,
 "nbformat_minor": 2
}
