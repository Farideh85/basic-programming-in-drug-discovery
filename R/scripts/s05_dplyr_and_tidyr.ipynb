{
 "cells": [
  {
   "cell_type": "markdown",
   "metadata": {},
   "source": [
    "## dplyr & tidyr "
   ]
  },
  {
   "cell_type": "markdown",
   "metadata": {},
   "source": [
    "The remainder of the course will be about data formatting, summarization and visualization. It is entirely possible to do these things using base R. However in recent years better alternatives have been developed. Now that the basic R syntax has been explained, it is time to introduce a more consistent and easier to read syntax created by Hadley Wickham in the form of key packages `dplyr`, `tidyr` and `ggplot2`. Most operations can be performed with `dplyr` and `tidyr`, and `ggplot2` can handle most visualizations. It is however still necessary to know the basic R syntax - especially for more complicated and specific statistical analysis for which many methods exist. We will explain method (dispatch) in the visualization paragraph. "
   ]
  },
  {
   "cell_type": "markdown",
   "metadata": {},
   "source": [
    "First install and load the packages:  (installation has already been done for the course)"
   ]
  },
  {
   "cell_type": "code",
   "execution_count": null,
   "metadata": {},
   "outputs": [],
   "source": [
    "#install.packages(c(\"dplyr\", \"tidyr\", \"ggplot2\"))\n",
    "library(dplyr)\n",
    "library(tidyr)\n",
    "library(ggplot2)"
   ]
  },
  {
   "cell_type": "markdown",
   "metadata": {},
   "source": [
    "### tidyr & dplyr syntax"
   ]
  },
  {
   "cell_type": "markdown",
   "metadata": {},
   "source": [
    "Advantages:  \n",
    "** Piping `%>%` more readable: data flow operator from left to right    \n",
    "** Tibble, nicer implementation of data.frame  \n",
    "** Consistent language: `filter`, `select`, `mutate`,  `summarise` and `arrange`  \n",
    "** Explicit function names (function names do what they say)  \n",
    "\n",
    "Overview:  \n",
    "row selection:  `filter(iris, Sepal.Length >6)`  \n",
    "column selection: `select(iris, Species : Petal.Length)`  \n",
    "Calculations: `mutate(iris, Petal.Ratio = Petal.Width / Petal.Length)`  \n",
    "Define annotation: `group_by(iris, Species)` For summarizing or joining tables  \n",
    "Summarize based on group annotation: `summarise(iris, n = n(), mean.Petal.Ratio = mean(Petal.Ratio))` \n",
    "Row order the table: `arrange(iris, desc(mean.Petal.Ratio))` \n",
    "Merging tables based on a shared column id: `left_join()`, `full_join()` \n",
    "\n",
    "For example, using the dplyr syntax on `my_dataframe`:  "
   ]
  },
  {
   "cell_type": "code",
   "execution_count": null,
   "metadata": {},
   "outputs": [],
   "source": [
    "my_dataframe %>% filter( names %in% c(\"Margriet\", \"Elke\") ) %>%\n",
    "  select(names:hobbies) # select columns from names to hobbies"
   ]
  },
  {
   "cell_type": "markdown",
   "metadata": {},
   "source": [
    "To perform calculations on a data frame and perform a statistical summary:  "
   ]
  },
  {
   "cell_type": "code",
   "execution_count": null,
   "metadata": {},
   "outputs": [],
   "source": [
    "my_dataframe %>% \n",
    "  mutate(nonsensicle_confidence_limits = 1.97*sd(fakeage)/sqrt(3)) %>%\n",
    "  group_by(sex) %>%\n",
    "  summarize(n = n(), total_age = sum(fakeage), CoV = sd(fakeage)/total_age )"
   ]
  },
  {
   "cell_type": "markdown",
   "metadata": {},
   "source": [
    "In the example above the `mutate` call calculates the confidence limits and adds it as a new column.  \n",
    "The `group_by` call is needed to group the data frame by sex, so that R knows over what levels to summarize over in the next line. The `n = n()` gives us the number of rows summarized over, then two more calculations are performed as extra arguments to the `summarise` call; the sum of the age of the males/females, and the coefficient of variation.  "
   ]
  },
  {
   "cell_type": "markdown",
   "metadata": {},
   "source": [
    "* exercise: After observing the following code, rewrite it with pipes and `dplyr` syntax: \n",
    "hint: run line by line and observe the result, some functions like `aggregate` have not been treated but by looking at the result will make its function it obvious.  "
   ]
  },
  {
   "cell_type": "code",
   "execution_count": null,
   "metadata": {},
   "outputs": [],
   "source": [
    "tmp <- iris[ iris$Sepal.Length > 6, ]\n",
    "tmp <- tmp[, c(\"Species\", \"Petal.Width\", \"Petal.Length\")]\n",
    "tmp$Petal.Ratio <- tmp$Petal.Width / tmp$Petal.Length\n",
    "tmp2 <- aggregate(Petal.Ratio ~ Species, data = tmp, FUN = length)\n",
    "tmp <- aggregate(Petal.Ratio ~ Species, data = tmp, FUN = mean)\n",
    "colnames(tmp)[2] <- \"mean.Petal.Ratio\"\n",
    "colnames(tmp2)[2] <- \"n\"\n",
    "tmp <- merge(tmp2, tmp, by = \"Species\")\n",
    "tmp[ rev(order(tmp$mean.Petal.Ratio)), ]"
   ]
  },
  {
   "cell_type": "code",
   "execution_count": null,
   "metadata": {},
   "outputs": [],
   "source": []
  }
 ],
 "metadata": {
  "kernelspec": {
   "display_name": "R",
   "language": "R",
   "name": "ir"
  },
  "language_info": {
   "codemirror_mode": "r",
   "file_extension": ".r",
   "mimetype": "text/x-r-source",
   "name": "R",
   "pygments_lexer": "r",
   "version": "3.5.1"
  }
 },
 "nbformat": 4,
 "nbformat_minor": 2
}
