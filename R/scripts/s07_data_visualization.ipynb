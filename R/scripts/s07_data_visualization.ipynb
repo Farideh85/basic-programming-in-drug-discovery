{
 "cells": [
  {
   "cell_type": "markdown",
   "metadata": {},
   "source": [
    "## data visualization  \n",
    "Most useRs tend to use the `ggplot2` package for data visualization. However before we delve into `ggplot2` we will explain the base r plotting system, because many useful methods exists for this system, especially in the context of statistical analysis like residual plots.  \n",
    "\n",
    "### base plotting methods  \n",
    "With base plotting you can modify the graphs in any little details you would like, this is however not very intuitive and requires quite a large amount of time to master. It is easier and quicker to do with the `theme_` system from the `ggplot2` package. In addition we can only recommend to modify little details using vector based images and import these into for example illustrator (since the university has an faculty wide license anyway).    \n",
    "\n",
    "\n",
    "\n",
    "\n",
    "### method dispatch  \n",
    "Method dispatch is everywhere in R. Functions call methods depending on the class of the input argument to the function. You can display the available methods for the plot function with `methods(plot)`. We will show you an example using the `plot` function, first we create three different object classes, then observe the behavior of the plot function:  "
   ]
  },
  {
   "cell_type": "code",
   "execution_count": null,
   "metadata": {},
   "outputs": [],
   "source": [
    "dist/ hclust\n",
    "lm()\n",
    "data.frame\n",
    "Also the type of data will change the way `plot` behaves. Compare for example nominal vs numerical data:  \n",
    "\n",
    "```{r}\n",
    "\n",
    "```\n",
    "\n",
    "\n",
    "\n",
    "\n",
    "\n",
    "### ggplot2   \n",
    "\n",
    "melt case  \n",
    "\n",
    "\n",
    "\n",
    "## read and write functions   \n",
    "\n",
    "\n",
    "\n",
    "\n",
    "\n"
   ]
  }
 ],
 "metadata": {
  "kernelspec": {
   "display_name": "R",
   "language": "R",
   "name": "ir"
  },
  "language_info": {
   "codemirror_mode": "r",
   "file_extension": ".r",
   "mimetype": "text/x-r-source",
   "name": "R",
   "pygments_lexer": "r",
   "version": "3.5.1"
  }
 },
 "nbformat": 4,
 "nbformat_minor": 2
}
