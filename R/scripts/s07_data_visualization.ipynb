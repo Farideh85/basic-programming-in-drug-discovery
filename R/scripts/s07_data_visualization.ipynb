{
 "cells": [
  {
   "cell_type": "markdown",
   "metadata": {},
   "source": [
    "## data visualization  \n",
    "Most useRs tend to use the `ggplot2` package for data visualization. However before we delve into `ggplot2` we will explain the base r plotting system, because many useful methods exists for this system, especially in the context of statistical analysis like residual plots.  \n",
    "\n",
    "### base plotting methods  \n",
    "With base plotting you can modify the graphs in any little details you would like, this is however not very intuitive and requires quite a large amount of time to master. It is easier and quicker to do with the `theme_` system from the `ggplot2` package. In addition we can only recommend to modify little details using vector based images and import these into for example illustrator (since the university has an faculty wide license anyway).    \n",
    "\n",
    "\n",
    "\n",
    "\n",
    "### method dispatch  \n",
    "Method dispatch is everywhere in R. Functions call methods depending on the class of the input argument to the function. You can display the available methods for the plot function with `methods(plot)`. We will show you an example using the `plot` function, first we create three different object or data classes, then observe the behavior of the plot function:  "
   ]
  },
  {
   "cell_type": "code",
   "execution_count": 19,
   "metadata": {},
   "outputs": [
    {
     "name": "stderr",
     "output_type": "stream",
     "text": [
      "Loading required package: tidyr\n"
     ]
    }
   ],
   "source": [
    "require(dplyr)\n",
    "require(tidyr)"
   ]
  },
  {
   "cell_type": "code",
   "execution_count": null,
   "metadata": {},
   "outputs": [],
   "source": [
    "plot(iris)"
   ]
  },
  {
   "cell_type": "code",
   "execution_count": 9,
   "metadata": {},
   "outputs": [],
   "source": [
    "iris_clust <- hclust(dist(iris[, -5])) # calculate distances and clustering for the iris data"
   ]
  },
  {
   "cell_type": "code",
   "execution_count": null,
   "metadata": {},
   "outputs": [],
   "source": [
    "plot(iris_clust , labels = iris$Species)"
   ]
  },
  {
   "cell_type": "code",
   "execution_count": null,
   "metadata": {},
   "outputs": [],
   "source": [
    "plot(Petal.Length ~ Species, data = iris)\n"
   ]
  },
  {
   "cell_type": "markdown",
   "metadata": {},
   "source": [
    "This happens because the plot function will use a different method depending on the input argument class and data type. This is called method dispatch. All available methods can be seen with a call to `methods`:  "
   ]
  },
  {
   "cell_type": "code",
   "execution_count": null,
   "metadata": {},
   "outputs": [],
   "source": [
    "methods(plot)"
   ]
  },
  {
   "cell_type": "markdown",
   "metadata": {},
   "source": [
    "There are many useful methods in base R, and this is one of the reasons to still learn base R. For example for a statistical analysis you might want to quickly check your assumptions, a quick call to `plot` will provide you with the needed figures:  "
   ]
  },
  {
   "cell_type": "code",
   "execution_count": null,
   "metadata": {},
   "outputs": [],
   "source": [
    "anova_model <- lm(Sepal.Length ~ Species, data = iris)\n",
    "plot(anova_model)"
   ]
  },
  {
   "cell_type": "markdown",
   "metadata": {},
   "source": [
    "### base plotting"
   ]
  },
  {
   "cell_type": "markdown",
   "metadata": {},
   "source": [
    "A basic anotated plot can be created with the following arguments:"
   ]
  },
  {
   "cell_type": "code",
   "execution_count": 47,
   "metadata": {},
   "outputs": [
    {
     "data": {
      "text/html": [
       "<dl>\n",
       "\t<dt>$setosa</dt>\n",
       "\t\t<dd>NULL</dd>\n",
       "\t<dt>$versicolor</dt>\n",
       "\t\t<dd>NULL</dd>\n",
       "\t<dt>$virginica</dt>\n",
       "\t\t<dd>NULL</dd>\n",
       "</dl>\n"
      ],
      "text/latex": [
       "\\begin{description}\n",
       "\\item[\\$setosa] NULL\n",
       "\\item[\\$versicolor] NULL\n",
       "\\item[\\$virginica] NULL\n",
       "\\end{description}\n"
      ],
      "text/markdown": [
       "$setosa\n",
       ":   NULL\n",
       "$versicolor\n",
       ":   NULL\n",
       "$virginica\n",
       ":   NULL\n",
       "\n",
       "\n"
      ],
      "text/plain": [
       "$setosa\n",
       "NULL\n",
       "\n",
       "$versicolor\n",
       "NULL\n",
       "\n",
       "$virginica\n",
       "NULL\n"
      ]
     },
     "metadata": {},
     "output_type": "display_data"
    },
    {
     "data": {
      "image/png": "[encoded data removed]",
      "text/plain": [
       "Plot with title \"Correlation between Sepal lenght and width\""
      ]
     },
     "metadata": {},
     "output_type": "display_data"
    }
   ],
   "source": [
    "# the plot of the data itself\n",
    "plot(x = iris$Sepal.Length, y = iris$Sepal.Width, \n",
    "     col = iris$Species, \n",
    "     main = \"Correlation between Sepal lenght and width\",\n",
    "     xlab = \"Sepal Length\", ylab = \"Sepal Width\"         \n",
    "    )\n",
    "# adding a legend\n",
    "legend(x = 7, y = 4, legend = unique(iris$Species), \n",
    "       col = c(\"black\", \"red\", \"green\"), pch = 1)\n",
    "\n",
    "# linear model per species subset:\n",
    "lm_mod <- lapply(split(iris, f = iris$Species), function(x) {\n",
    "  lm(Sepal.Width ~ Sepal.Length, data = x )\n",
    "})\n",
    "\n",
    "# plot the 3 linear models with abline\n",
    "lapply(lm_mod, abline)"
   ]
  },
  {
   "cell_type": "markdown",
   "metadata": {},
   "source": [
    "Note how the `legend` function adds data to the existing plot.  \n",
    "`col` : the color, a long vector of the `iris$Species` is provided, giving each data point a color, the conversion from factor and charachter to color is done automatically.  \n",
    "`main` : main title of the plot.  \n",
    "\n",
    "We are not going into statistics in this course, so don't worry about the code and just know that a linear model is fit on each species subset of iris. The three models are added to the plot with the `abline` function.  \n",
    "\n",
    "The rest is pretty obvious, maybe only the order of the colors, well that is a bit tricky. It is the match between the alphabetically ordered characters and the default ordering of colors from the base plotting system: \"black\" - \"red\" - \"green\"\n"
   ]
  },
  {
   "cell_type": "markdown",
   "metadata": {},
   "source": [
    "* exercise 1: The code for the plot above consists of 4 sub parts, run each part in a seperate cell and observe the output and understand the function of each part.  "
   ]
  },
  {
   "cell_type": "code",
   "execution_count": null,
   "metadata": {},
   "outputs": [],
   "source": []
  },
  {
   "cell_type": "code",
   "execution_count": null,
   "metadata": {},
   "outputs": [],
   "source": []
  },
  {
   "cell_type": "code",
   "execution_count": null,
   "metadata": {},
   "outputs": [],
   "source": []
  },
  {
   "cell_type": "code",
   "execution_count": null,
   "metadata": {},
   "outputs": [],
   "source": []
  },
  {
   "cell_type": "markdown",
   "metadata": {},
   "source": [
    "* exercise 2: For the `Theoph` dataset, plot the time on the x axis, the concentration on the y axis, and assign colors and a legend to the subjects. Define appropriate x and y labels and a title.   "
   ]
  },
  {
   "cell_type": "code",
   "execution_count": null,
   "metadata": {},
   "outputs": [],
   "source": []
  },
  {
   "cell_type": "markdown",
   "metadata": {},
   "source": [
    "### plotting with ggplot2"
   ]
  },
  {
   "cell_type": "code",
   "execution_count": 50,
   "metadata": {},
   "outputs": [
    {
     "name": "stderr",
     "output_type": "stream",
     "text": [
      "Loading required package: ggplot2\n"
     ]
    }
   ],
   "source": [
    "require(ggplot2)"
   ]
  },
  {
   "cell_type": "markdown",
   "metadata": {},
   "source": [
    "The syntax for creating figures in `ggplot2` is very concise. With only a few lines you can create any figure you would want.  \n",
    "Start with the function call `ggplot()` and add the `data` and aesthetics argument `aes()`:  "
   ]
  },
  {
   "cell_type": "code",
   "execution_count": null,
   "metadata": {},
   "outputs": [],
   "source": [
    "ggplot(data = Theoph, aes(x = Time, y = conc)) # no output will be shown, as no geometry has been defined yet.  "
   ]
  },
  {
   "cell_type": "markdown",
   "metadata": {},
   "source": [
    "The `aes()` is used when you want to map some aesthetic to your data. If you want to provide a manual color, then you do not use the `aes()` argument. `Time` and `conc` are mapped to the x and y aesthetics, and since they are from the `Theoph` dataframe, you need the `aes()`.  \n",
    "Next, we add a geometry, with `geom_...()`. This defines the shape of the graph, for example boxplots, lines or points.  "
   ]
  },
  {
   "cell_type": "code",
   "execution_count": null,
   "metadata": {},
   "outputs": [],
   "source": [
    "ggplot(data = Theoph, aes(x = Time, y = conc)) + geom_point()"
   ]
  },
  {
   "cell_type": "markdown",
   "metadata": {},
   "source": [
    "You might have noticed the `+`, which is the `ggplot2` syntax for adding so called `layers` of information to your plot.  \n",
    "Let us now add another layer, a `theme`, which will define the look of the plot, using `theme_...()`.  "
   ]
  },
  {
   "cell_type": "code",
   "execution_count": null,
   "metadata": {},
   "outputs": [],
   "source": [
    "ggplot(data = Theoph, aes(x = Time, y = conc)) + geom_point() + theme_minimal()"
   ]
  },
  {
   "cell_type": "markdown",
   "metadata": {},
   "source": [
    "Next, we add some shapes to identify the subjects, and some colors to the $\\frac{dose}{weight}$ of these individuals. "
   ]
  },
  {
   "cell_type": "code",
   "execution_count": null,
   "metadata": {},
   "outputs": [],
   "source": [
    "ggplot(data = Theoph, aes(x = Time, y = conc)) + geom_point(aes(color = Dose/Wt)) + theme_minimal()"
   ]
  },
  {
   "cell_type": "markdown",
   "metadata": {},
   "source": [
    "Next, we add loess regression to each Subject time course:  "
   ]
  },
  {
   "cell_type": "code",
   "execution_count": null,
   "metadata": {},
   "outputs": [],
   "source": [
    "ggplot(data = Theoph, aes(x = Time, y = conc)) + geom_point(aes(color = Dose/Wt)) +\n",
    "geom_smooth(aes(group = Subject), method = 'loess') + theme_minimal() "
   ]
  },
  {
   "cell_type": "markdown",
   "metadata": {},
   "source": [
    "Hmm, the grey shaded area is messing up the visual, lets make it a bit more see-through with the alpha argument:  "
   ]
  },
  {
   "cell_type": "code",
   "execution_count": null,
   "metadata": {},
   "outputs": [],
   "source": [
    "ggplot(data = Theoph, aes(x = Time, y = conc)) + geom_point(aes(color = Dose/Wt)) +\n",
    "geom_smooth(aes(group = Subject), method = 'loess', alpha = 0.1) + theme_minimal() "
   ]
  },
  {
   "cell_type": "markdown",
   "metadata": {},
   "source": [
    "But what if we are interested in the individuals? We can easily split of the figure with `facet_wrap`!  "
   ]
  },
  {
   "cell_type": "code",
   "execution_count": 82,
   "metadata": {},
   "outputs": [
    {
     "data": {},
     "metadata": {},
     "output_type": "display_data"
    },
    {
     "data": {
      "image/png": "[encoded data removed]",
      "text/plain": [
       "plot without title"
      ]
     },
     "metadata": {},
     "output_type": "display_data"
    }
   ],
   "source": [
    "ggplot(data = Theoph, aes(x = Time, y = conc)) + geom_point(aes(color = Dose/Wt)) +\n",
    "geom_smooth(aes(group = Subject), method = 'loess', alpha = 0.2) + theme_minimal() + facet_wrap(~Subject)"
   ]
  },
  {
   "cell_type": "markdown",
   "metadata": {},
   "source": [
    "* exercise 3: Use the `ggplot2` package to plot the `iris` data, make sure you the figure makes it clear what measurement would be best suited to classify the 3 species.  "
   ]
  },
  {
   "cell_type": "code",
   "execution_count": null,
   "metadata": {},
   "outputs": [],
   "source": []
  },
  {
   "cell_type": "markdown",
   "metadata": {},
   "source": [
    "* exercise 4: **Carefully** have a look at the `diamonds` dataset. use `head()` and `summary()`. Don't try to print everything to screen and crash the server.   "
   ]
  },
  {
   "cell_type": "code",
   "execution_count": null,
   "metadata": {},
   "outputs": [],
   "source": []
  },
  {
   "cell_type": "markdown",
   "metadata": {},
   "source": [
    "* exercise 5: select 1000 random diamonds and store it in the placeholder `diamonds_small`, you can use the `sample()` function and sample from `1 : nrow(diamonds)` and use this sample as a row selection with `filter()` from `dplyr`, or use base-r syntax.  "
   ]
  },
  {
   "cell_type": "code",
   "execution_count": null,
   "metadata": {},
   "outputs": [],
   "source": []
  },
  {
   "cell_type": "markdown",
   "metadata": {},
   "source": [
    "* exercise 6: Use `ggplot2` to plot `diamonds_small` with `carat` on the x-axis, `price` on the y-axis, the `cut` mapped to color.  \n",
    "Add a loess regression fit to the plot for each `cut` group."
   ]
  },
  {
   "cell_type": "code",
   "execution_count": null,
   "metadata": {},
   "outputs": [],
   "source": []
  },
  {
   "cell_type": "markdown",
   "metadata": {},
   "source": [
    "### heatmaps with pheatmap\n"
   ]
  },
  {
   "cell_type": "code",
   "execution_count": null,
   "metadata": {},
   "outputs": [],
   "source": []
  },
  {
   "cell_type": "code",
   "execution_count": 54,
   "metadata": {},
   "outputs": [
    {
     "name": "stderr",
     "output_type": "stream",
     "text": [
      "Loading required package: pheatmap\n"
     ]
    }
   ],
   "source": [
    "require(pheatmap)"
   ]
  },
  {
   "cell_type": "code",
   "execution_count": null,
   "metadata": {},
   "outputs": [],
   "source": []
  },
  {
   "cell_type": "code",
   "execution_count": 110,
   "metadata": {},
   "outputs": [
    {
     "data": {
      "image/png": "[encoded data removed]",
      "text/plain": [
       "plot without title"
      ]
     },
     "metadata": {},
     "output_type": "display_data"
    }
   ],
   "source": [
    "data(iris)\n",
    "rownames(iris) <- paste(\"plant\", 1: nrow(iris))\n",
    "row_anot <- iris[, \"Species\", drop = FALSE]\n",
    "\n",
    "pheatmap(iris[, -5], annotation_row = row_anot)\n"
   ]
  },
  {
   "cell_type": "markdown",
   "metadata": {},
   "source": [
    "* exercise 7: Add a column anotation color bar, a color for Sepals and a color for Petals"
   ]
  },
  {
   "cell_type": "code",
   "execution_count": null,
   "metadata": {},
   "outputs": [],
   "source": []
  },
  {
   "cell_type": "markdown",
   "metadata": {},
   "source": [
    "* exercise 8: Stop the columns from clustering and see if you can improve the row clustering.  "
   ]
  },
  {
   "cell_type": "code",
   "execution_count": null,
   "metadata": {},
   "outputs": [],
   "source": []
  }
 ],
 "metadata": {
  "kernelspec": {
   "display_name": "R",
   "language": "R",
   "name": "ir"
  },
  "language_info": {
   "codemirror_mode": "r",
   "file_extension": ".r",
   "mimetype": "text/x-r-source",
   "name": "R",
   "pygments_lexer": "r",
   "version": "3.5.1"
  }
 },
 "nbformat": 4,
 "nbformat_minor": 2
}
