{
 "cells": [
  {
   "cell_type": "code",
   "execution_count": 4,
   "metadata": {},
   "outputs": [
    {
     "name": "stderr",
     "output_type": "stream",
     "text": [
      "Loading required package: dplyr\n",
      "\n",
      "Attaching package: 'dplyr'\n",
      "\n",
      "The following objects are masked from 'package:stats':\n",
      "\n",
      "    filter, lag\n",
      "\n",
      "The following objects are masked from 'package:base':\n",
      "\n",
      "    intersect, setdiff, setequal, union\n",
      "\n"
     ]
    }
   ],
   "source": [
    "require(dplyr)"
   ]
  },
  {
   "cell_type": "markdown",
   "metadata": {},
   "source": [
    "* exercise 3"
   ]
  },
  {
   "cell_type": "code",
   "execution_count": 5,
   "metadata": {},
   "outputs": [
    {
     "data": {
      "text/html": [
       "<table>\n",
       "<thead><tr><th scope=col>Subject</th><th scope=col>max_conc</th></tr></thead>\n",
       "<tbody>\n",
       "\t<tr><td>6    </td><td> 6.44</td></tr>\n",
       "\t<tr><td>7    </td><td> 7.09</td></tr>\n",
       "\t<tr><td>8    </td><td> 7.56</td></tr>\n",
       "\t<tr><td>11   </td><td> 8.00</td></tr>\n",
       "\t<tr><td>3    </td><td> 8.20</td></tr>\n",
       "\t<tr><td>2    </td><td> 8.33</td></tr>\n",
       "\t<tr><td>4    </td><td> 8.60</td></tr>\n",
       "\t<tr><td>9    </td><td> 9.03</td></tr>\n",
       "\t<tr><td>12   </td><td> 9.75</td></tr>\n",
       "\t<tr><td>10   </td><td>10.21</td></tr>\n",
       "\t<tr><td>1    </td><td>10.50</td></tr>\n",
       "\t<tr><td>5    </td><td>11.40</td></tr>\n",
       "</tbody>\n",
       "</table>\n"
      ],
      "text/latex": [
       "\\begin{tabular}{r|ll}\n",
       " Subject & max\\_conc\\\\\n",
       "\\hline\n",
       "\t 6     &  6.44\\\\\n",
       "\t 7     &  7.09\\\\\n",
       "\t 8     &  7.56\\\\\n",
       "\t 11    &  8.00\\\\\n",
       "\t 3     &  8.20\\\\\n",
       "\t 2     &  8.33\\\\\n",
       "\t 4     &  8.60\\\\\n",
       "\t 9     &  9.03\\\\\n",
       "\t 12    &  9.75\\\\\n",
       "\t 10    & 10.21\\\\\n",
       "\t 1     & 10.50\\\\\n",
       "\t 5     & 11.40\\\\\n",
       "\\end{tabular}\n"
      ],
      "text/markdown": [
       "\n",
       "Subject | max_conc | \n",
       "|---|---|---|---|---|---|---|---|---|---|---|---|\n",
       "| 6     |  6.44 | \n",
       "| 7     |  7.09 | \n",
       "| 8     |  7.56 | \n",
       "| 11    |  8.00 | \n",
       "| 3     |  8.20 | \n",
       "| 2     |  8.33 | \n",
       "| 4     |  8.60 | \n",
       "| 9     |  9.03 | \n",
       "| 12    |  9.75 | \n",
       "| 10    | 10.21 | \n",
       "| 1     | 10.50 | \n",
       "| 5     | 11.40 | \n",
       "\n",
       "\n"
      ],
      "text/plain": [
       "   Subject max_conc\n",
       "1  6        6.44   \n",
       "2  7        7.09   \n",
       "3  8        7.56   \n",
       "4  11       8.00   \n",
       "5  3        8.20   \n",
       "6  2        8.33   \n",
       "7  4        8.60   \n",
       "8  9        9.03   \n",
       "9  12       9.75   \n",
       "10 10      10.21   \n",
       "11 1       10.50   \n",
       "12 5       11.40   "
      ]
     },
     "metadata": {},
     "output_type": "display_data"
    }
   ],
   "source": [
    "Theoph %>% group_by(Subject) %>%\n",
    "  summarise( max_conc = max(conc))"
   ]
  },
  {
   "cell_type": "markdown",
   "metadata": {},
   "source": [
    "* exercise 4"
   ]
  },
  {
   "cell_type": "code",
   "execution_count": 13,
   "metadata": {},
   "outputs": [
    {
     "data": {
      "text/html": [
       "<table>\n",
       "<thead><tr><th scope=col>Subject</th><th scope=col>Wt_u</th></tr></thead>\n",
       "<tbody>\n",
       "\t<tr><td>6   </td><td>80.0</td></tr>\n",
       "\t<tr><td>7   </td><td>64.6</td></tr>\n",
       "\t<tr><td>8   </td><td>70.5</td></tr>\n",
       "\t<tr><td>11  </td><td>65.0</td></tr>\n",
       "\t<tr><td>3   </td><td>70.5</td></tr>\n",
       "\t<tr><td>2   </td><td>72.4</td></tr>\n",
       "\t<tr><td>4   </td><td>72.7</td></tr>\n",
       "\t<tr><td>9   </td><td>86.4</td></tr>\n",
       "\t<tr><td>12  </td><td>60.5</td></tr>\n",
       "\t<tr><td>10  </td><td>58.2</td></tr>\n",
       "\t<tr><td>1   </td><td>79.6</td></tr>\n",
       "\t<tr><td>5   </td><td>54.6</td></tr>\n",
       "</tbody>\n",
       "</table>\n"
      ],
      "text/latex": [
       "\\begin{tabular}{r|ll}\n",
       " Subject & Wt\\_u\\\\\n",
       "\\hline\n",
       "\t 6    & 80.0\\\\\n",
       "\t 7    & 64.6\\\\\n",
       "\t 8    & 70.5\\\\\n",
       "\t 11   & 65.0\\\\\n",
       "\t 3    & 70.5\\\\\n",
       "\t 2    & 72.4\\\\\n",
       "\t 4    & 72.7\\\\\n",
       "\t 9    & 86.4\\\\\n",
       "\t 12   & 60.5\\\\\n",
       "\t 10   & 58.2\\\\\n",
       "\t 1    & 79.6\\\\\n",
       "\t 5    & 54.6\\\\\n",
       "\\end{tabular}\n"
      ],
      "text/markdown": [
       "\n",
       "Subject | Wt_u | \n",
       "|---|---|---|---|---|---|---|---|---|---|---|---|\n",
       "| 6    | 80.0 | \n",
       "| 7    | 64.6 | \n",
       "| 8    | 70.5 | \n",
       "| 11   | 65.0 | \n",
       "| 3    | 70.5 | \n",
       "| 2    | 72.4 | \n",
       "| 4    | 72.7 | \n",
       "| 9    | 86.4 | \n",
       "| 12   | 60.5 | \n",
       "| 10   | 58.2 | \n",
       "| 1    | 79.6 | \n",
       "| 5    | 54.6 | \n",
       "\n",
       "\n"
      ],
      "text/plain": [
       "   Subject Wt_u\n",
       "1  6       80.0\n",
       "2  7       64.6\n",
       "3  8       70.5\n",
       "4  11      65.0\n",
       "5  3       70.5\n",
       "6  2       72.4\n",
       "7  4       72.7\n",
       "8  9       86.4\n",
       "9  12      60.5\n",
       "10 10      58.2\n",
       "11 1       79.6\n",
       "12 5       54.6"
      ]
     },
     "metadata": {},
     "output_type": "display_data"
    }
   ],
   "source": [
    "max_conc <- Theoph %>% group_by(Subject) %>%\n",
    "  summarise( max_conc = max(conc))\n",
    "subj_wt <- Theoph %>% select(Subject, Wt) %>%\n",
    "group_by(Subject) %>% \n",
    "summarise(Wt_u = unique(Wt))\n",
    "\n",
    "subj_wt\n"
   ]
  },
  {
   "cell_type": "code",
   "execution_count": 28,
   "metadata": {},
   "outputs": [
    {
     "name": "stderr",
     "output_type": "stream",
     "text": [
      "Joining, by = \"Subject\"\n"
     ]
    },
    {
     "data": {
      "text/html": [
       "-0.381681553013208"
      ],
      "text/latex": [
       "-0.381681553013208"
      ],
      "text/markdown": [
       "-0.381681553013208"
      ],
      "text/plain": [
       "[1] -0.3816816"
      ]
     },
     "metadata": {},
     "output_type": "display_data"
    }
   ],
   "source": [
    "cor_data <- full_join(max_conc, subj_wt, key = \"Subject\") \n",
    "\n",
    "cor(cor_data$max_conc, cor_data$Wt_u)"
   ]
  },
  {
   "cell_type": "markdown",
   "metadata": {},
   "source": [
    "* exercise 5"
   ]
  },
  {
   "cell_type": "code",
   "execution_count": 29,
   "metadata": {},
   "outputs": [
    {
     "data": {
      "text/html": [
       "<table>\n",
       "<thead><tr><th scope=col>Subject</th><th scope=col>max_conc</th></tr></thead>\n",
       "<tbody>\n",
       "\t<tr><td>6    </td><td> 6.44</td></tr>\n",
       "\t<tr><td>7    </td><td> 7.09</td></tr>\n",
       "\t<tr><td>8    </td><td> 7.56</td></tr>\n",
       "\t<tr><td>11   </td><td> 8.00</td></tr>\n",
       "\t<tr><td>3    </td><td> 8.20</td></tr>\n",
       "\t<tr><td>2    </td><td> 8.33</td></tr>\n",
       "\t<tr><td>4    </td><td> 8.60</td></tr>\n",
       "\t<tr><td>9    </td><td> 9.03</td></tr>\n",
       "\t<tr><td>12   </td><td> 9.75</td></tr>\n",
       "\t<tr><td>10   </td><td>10.21</td></tr>\n",
       "\t<tr><td>1    </td><td>10.50</td></tr>\n",
       "\t<tr><td>5    </td><td>11.40</td></tr>\n",
       "</tbody>\n",
       "</table>\n"
      ],
      "text/latex": [
       "\\begin{tabular}{r|ll}\n",
       " Subject & max\\_conc\\\\\n",
       "\\hline\n",
       "\t 6     &  6.44\\\\\n",
       "\t 7     &  7.09\\\\\n",
       "\t 8     &  7.56\\\\\n",
       "\t 11    &  8.00\\\\\n",
       "\t 3     &  8.20\\\\\n",
       "\t 2     &  8.33\\\\\n",
       "\t 4     &  8.60\\\\\n",
       "\t 9     &  9.03\\\\\n",
       "\t 12    &  9.75\\\\\n",
       "\t 10    & 10.21\\\\\n",
       "\t 1     & 10.50\\\\\n",
       "\t 5     & 11.40\\\\\n",
       "\\end{tabular}\n"
      ],
      "text/markdown": [
       "\n",
       "Subject | max_conc | \n",
       "|---|---|---|---|---|---|---|---|---|---|---|---|\n",
       "| 6     |  6.44 | \n",
       "| 7     |  7.09 | \n",
       "| 8     |  7.56 | \n",
       "| 11    |  8.00 | \n",
       "| 3     |  8.20 | \n",
       "| 2     |  8.33 | \n",
       "| 4     |  8.60 | \n",
       "| 9     |  9.03 | \n",
       "| 12    |  9.75 | \n",
       "| 10    | 10.21 | \n",
       "| 1     | 10.50 | \n",
       "| 5     | 11.40 | \n",
       "\n",
       "\n"
      ],
      "text/plain": [
       "   Subject max_conc\n",
       "1  6        6.44   \n",
       "2  7        7.09   \n",
       "3  8        7.56   \n",
       "4  11       8.00   \n",
       "5  3        8.20   \n",
       "6  2        8.33   \n",
       "7  4        8.60   \n",
       "8  9        9.03   \n",
       "9  12       9.75   \n",
       "10 10      10.21   \n",
       "11 1       10.50   \n",
       "12 5       11.40   "
      ]
     },
     "metadata": {},
     "output_type": "display_data"
    }
   ],
   "source": [
    "max_conc"
   ]
  },
  {
   "cell_type": "code",
   "execution_count": 34,
   "metadata": {},
   "outputs": [
    {
     "name": "stderr",
     "output_type": "stream",
     "text": [
      "Joining, by = \"Subject\"\n"
     ]
    },
    {
     "data": {
      "text/html": [
       "<table>\n",
       "<thead><tr><th scope=col>Subject</th><th scope=col>Wt</th><th scope=col>Dose</th><th scope=col>Time</th><th scope=col>conc</th><th scope=col>max_conc</th></tr></thead>\n",
       "<tbody>\n",
       "\t<tr><td>1    </td><td>79.6 </td><td>4.02 </td><td>1.12 </td><td>10.50</td><td>10.50</td></tr>\n",
       "\t<tr><td>2    </td><td>72.4 </td><td>4.40 </td><td>1.92 </td><td> 8.33</td><td> 8.33</td></tr>\n",
       "\t<tr><td>3    </td><td>70.5 </td><td>4.53 </td><td>1.02 </td><td> 8.20</td><td> 8.20</td></tr>\n",
       "\t<tr><td>4    </td><td>72.7 </td><td>4.40 </td><td>1.07 </td><td> 8.60</td><td> 8.60</td></tr>\n",
       "\t<tr><td>5    </td><td>54.6 </td><td>5.86 </td><td>1.00 </td><td>11.40</td><td>11.40</td></tr>\n",
       "\t<tr><td>6    </td><td>80.0 </td><td>4.00 </td><td>1.15 </td><td> 6.44</td><td> 6.44</td></tr>\n",
       "\t<tr><td>7    </td><td>64.6 </td><td>4.95 </td><td>3.48 </td><td> 7.09</td><td> 7.09</td></tr>\n",
       "\t<tr><td>8    </td><td>70.5 </td><td>4.53 </td><td>2.02 </td><td> 7.56</td><td> 7.56</td></tr>\n",
       "\t<tr><td>9    </td><td>86.4 </td><td>3.10 </td><td>0.63 </td><td> 9.03</td><td> 9.03</td></tr>\n",
       "\t<tr><td>10   </td><td>58.2 </td><td>5.50 </td><td>3.55 </td><td>10.21</td><td>10.21</td></tr>\n",
       "\t<tr><td>11   </td><td>65.0 </td><td>4.92 </td><td>0.98 </td><td> 8.00</td><td> 8.00</td></tr>\n",
       "\t<tr><td>12   </td><td>60.5 </td><td>5.30 </td><td>3.52 </td><td> 9.75</td><td> 9.75</td></tr>\n",
       "</tbody>\n",
       "</table>\n"
      ],
      "text/latex": [
       "\\begin{tabular}{r|llllll}\n",
       " Subject & Wt & Dose & Time & conc & max\\_conc\\\\\n",
       "\\hline\n",
       "\t 1     & 79.6  & 4.02  & 1.12  & 10.50 & 10.50\\\\\n",
       "\t 2     & 72.4  & 4.40  & 1.92  &  8.33 &  8.33\\\\\n",
       "\t 3     & 70.5  & 4.53  & 1.02  &  8.20 &  8.20\\\\\n",
       "\t 4     & 72.7  & 4.40  & 1.07  &  8.60 &  8.60\\\\\n",
       "\t 5     & 54.6  & 5.86  & 1.00  & 11.40 & 11.40\\\\\n",
       "\t 6     & 80.0  & 4.00  & 1.15  &  6.44 &  6.44\\\\\n",
       "\t 7     & 64.6  & 4.95  & 3.48  &  7.09 &  7.09\\\\\n",
       "\t 8     & 70.5  & 4.53  & 2.02  &  7.56 &  7.56\\\\\n",
       "\t 9     & 86.4  & 3.10  & 0.63  &  9.03 &  9.03\\\\\n",
       "\t 10    & 58.2  & 5.50  & 3.55  & 10.21 & 10.21\\\\\n",
       "\t 11    & 65.0  & 4.92  & 0.98  &  8.00 &  8.00\\\\\n",
       "\t 12    & 60.5  & 5.30  & 3.52  &  9.75 &  9.75\\\\\n",
       "\\end{tabular}\n"
      ],
      "text/markdown": [
       "\n",
       "Subject | Wt | Dose | Time | conc | max_conc | \n",
       "|---|---|---|---|---|---|---|---|---|---|---|---|\n",
       "| 1     | 79.6  | 4.02  | 1.12  | 10.50 | 10.50 | \n",
       "| 2     | 72.4  | 4.40  | 1.92  |  8.33 |  8.33 | \n",
       "| 3     | 70.5  | 4.53  | 1.02  |  8.20 |  8.20 | \n",
       "| 4     | 72.7  | 4.40  | 1.07  |  8.60 |  8.60 | \n",
       "| 5     | 54.6  | 5.86  | 1.00  | 11.40 | 11.40 | \n",
       "| 6     | 80.0  | 4.00  | 1.15  |  6.44 |  6.44 | \n",
       "| 7     | 64.6  | 4.95  | 3.48  |  7.09 |  7.09 | \n",
       "| 8     | 70.5  | 4.53  | 2.02  |  7.56 |  7.56 | \n",
       "| 9     | 86.4  | 3.10  | 0.63  |  9.03 |  9.03 | \n",
       "| 10    | 58.2  | 5.50  | 3.55  | 10.21 | 10.21 | \n",
       "| 11    | 65.0  | 4.92  | 0.98  |  8.00 |  8.00 | \n",
       "| 12    | 60.5  | 5.30  | 3.52  |  9.75 |  9.75 | \n",
       "\n",
       "\n"
      ],
      "text/plain": [
       "   Subject Wt   Dose Time conc  max_conc\n",
       "1  1       79.6 4.02 1.12 10.50 10.50   \n",
       "2  2       72.4 4.40 1.92  8.33  8.33   \n",
       "3  3       70.5 4.53 1.02  8.20  8.20   \n",
       "4  4       72.7 4.40 1.07  8.60  8.60   \n",
       "5  5       54.6 5.86 1.00 11.40 11.40   \n",
       "6  6       80.0 4.00 1.15  6.44  6.44   \n",
       "7  7       64.6 4.95 3.48  7.09  7.09   \n",
       "8  8       70.5 4.53 2.02  7.56  7.56   \n",
       "9  9       86.4 3.10 0.63  9.03  9.03   \n",
       "10 10      58.2 5.50 3.55 10.21 10.21   \n",
       "11 11      65.0 4.92 0.98  8.00  8.00   \n",
       "12 12      60.5 5.30 3.52  9.75  9.75   "
      ]
     },
     "metadata": {},
     "output_type": "display_data"
    }
   ],
   "source": [
    "left_join(Theoph, max_conc) %>%\n",
    "filter(conc == max_conc)"
   ]
  }
 ],
 "metadata": {
  "kernelspec": {
   "display_name": "R",
   "language": "R",
   "name": "ir"
  },
  "language_info": {
   "codemirror_mode": "r",
   "file_extension": ".r",
   "mimetype": "text/x-r-source",
   "name": "R",
   "pygments_lexer": "r",
   "version": "3.5.1"
  }
 },
 "nbformat": 4,
 "nbformat_minor": 2
}
