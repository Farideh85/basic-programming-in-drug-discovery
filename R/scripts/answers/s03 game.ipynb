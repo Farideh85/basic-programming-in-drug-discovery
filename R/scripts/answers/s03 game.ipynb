{
 "cells": [
  {
   "cell_type": "code",
   "execution_count": null,
   "metadata": {},
   "outputs": [],
   "source": [
    "my_money <- 5\n",
    "for( i in 1:5) {\n",
    "wn <- readline(prompt = \"what number\")\n",
    "rd <- sample(1:6, 1)\n",
    "if( wn == rd) {\n",
    "  my_money <- my_money + 3\n",
    "} else{\n",
    "  my_money <- my_money - 1\n",
    "}\n",
    "if(my_money < 1) {\n",
    "  print(\"you loose\")\n",
    "  break\n",
    "}\n",
    "print(paste0(\"you have: \", my_money))\n",
    "}"
   ]
  }
 ],
 "metadata": {
  "kernelspec": {
   "display_name": "R",
   "language": "R",
   "name": "ir"
  },
  "language_info": {
   "codemirror_mode": "r",
   "file_extension": ".r",
   "mimetype": "text/x-r-source",
   "name": "R",
   "pygments_lexer": "r",
   "version": "3.5.1"
  }
 },
 "nbformat": 4,
 "nbformat_minor": 2
}
