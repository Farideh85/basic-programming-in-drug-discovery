{
 "cells": [
  {
   "cell_type": "markdown",
   "metadata": {},
   "source": [
    "# Basic programming in drug discovery - R"
   ]
  },
  {
   "cell_type": "markdown",
   "metadata": {},
   "source": [
    "Note: to run the lines, select hold the `ctrl` key while typing `enter`,  \n",
    "alternatively hold the `ctrl` key while typing `enter` to run the lines and enter a new block.  \n",
    "\n",
    "\n",
    "## Basic math operations, classes and variables        \n",
    "### basic math operations   \n",
    "We can perform calculations on numerical objects:"
   ]
  },
  {
   "cell_type": "code",
   "execution_count": null,
   "metadata": {},
   "outputs": [],
   "source": [
    "1 + 1"
   ]
  },
  {
   "cell_type": "code",
   "execution_count": null,
   "metadata": {},
   "outputs": [],
   "source": [
    "1 - 1"
   ]
  },
  {
   "cell_type": "code",
   "execution_count": null,
   "metadata": {},
   "outputs": [],
   "source": [
    "1 / 1"
   ]
  },
  {
   "cell_type": "code",
   "execution_count": null,
   "metadata": {},
   "outputs": [],
   "source": [
    "1 * 1"
   ]
  },
  {
   "cell_type": "markdown",
   "metadata": {},
   "source": [
    "* exercise 1: Try different numbers and run the code, you know it worked when you obtain an output.  "
   ]
  },
  {
   "cell_type": "code",
   "execution_count": null,
   "metadata": {},
   "outputs": [],
   "source": []
  },
  {
   "cell_type": "markdown",
   "metadata": {},
   "source": [
    "### classes  \n",
    "\n",
    "To find out what class an object is you can use the `class()` function "
   ]
  },
  {
   "cell_type": "code",
   "execution_count": null,
   "metadata": {},
   "outputs": [],
   "source": [
    "class(1)"
   ]
  },
  {
   "cell_type": "markdown",
   "metadata": {},
   "source": [
    "Another class is the so called `string` or `character` type,  \n",
    "you let R know you want to define a character class by using single or double quotes: "
   ]
  },
  {
   "cell_type": "code",
   "execution_count": null,
   "metadata": {},
   "outputs": [],
   "source": [
    "class(\"1\")"
   ]
  },
  {
   "cell_type": "markdown",
   "metadata": {},
   "source": [
    "* exercise 2: Run the line, why did you get an error?   \n",
    "Can you fix this error? "
   ]
  },
  {
   "cell_type": "code",
   "execution_count": null,
   "metadata": {},
   "outputs": [],
   "source": [
    "13 + \"5\""
   ]
  },
  {
   "cell_type": "markdown",
   "metadata": {},
   "source": [
    "So depending on the class of objects the code behaves differently.  \n",
    "\n",
    "The `+` is an example of a binary operator. Basically a function that can take 2 input arguments and return a single output.  \n",
    "However, we will look into functions later today. The `non-numeric` argument refers to the 5 not being numeric. It is called an `argument` because it is the input to the binary operator.  "
   ]
  },
  {
   "cell_type": "markdown",
   "metadata": {},
   "source": [
    "Another important class in R is the `factor`. Factors allow ordering of descriptors/ nominal variables. Many R functions treat factors differently compared to the character class. It is important to be aware if your data is stored as character vs factor.  \n",
    "The default in R is to store all character data as factor. You can turn this default behavior off with `options(stringsAsFactors = FALSE)`. When we look at the data object class `data.frames` we will have a look at some examples involving factors.  \n"
   ]
  }
 ],
 "metadata": {
  "kernelspec": {
   "display_name": "R",
   "language": "R",
   "name": "ir"
  },
  "language_info": {
   "codemirror_mode": "r",
   "file_extension": ".r",
   "mimetype": "text/x-r-source",
   "name": "R",
   "pygments_lexer": "r",
   "version": "3.5.1"
  }
 },
 "nbformat": 4,
 "nbformat_minor": 2
}
