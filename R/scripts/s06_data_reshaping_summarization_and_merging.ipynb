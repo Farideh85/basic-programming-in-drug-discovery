{
 "cells": [
  {
   "cell_type": "markdown",
   "metadata": {},
   "source": [
    "## data reshaping, summarization and merging  "
   ]
  },
  {
   "cell_type": "markdown",
   "metadata": {},
   "source": [
    "Data reshaping, summarization and merging are fundamental data analysis operations. There are a multitude of ways this can be done in R, this can make R very confusing. For this reason we will stick to the `dplyr/tidyr` syntax.   \n",
    "To explain these concepts and to demonstrate use-cases, we will perform a small case study.  \n",
    "Carefully run the lines and make sure to understand each part.  \n",
    "\n",
    "Observe the `iris` data set:"
   ]
  },
  {
   "cell_type": "code",
   "execution_count": null,
   "metadata": {},
   "outputs": [],
   "source": [
    "head(iris)"
   ]
  },
  {
   "cell_type": "markdown",
   "metadata": {},
   "source": [
    "Our goal is to calculate the average sepal and petal lengths and widths and add it to the existing iris table. Let us do this now, we first define the groups, then calculate the mean and finally add the result of this calculation to the iris table: "
   ]
  },
  {
   "cell_type": "code",
   "execution_count": null,
   "metadata": {},
   "outputs": [],
   "source": [
    "mean_iris <- iris %>% group_by(Species) %>%\n",
    "  summarise_all(mean) \n",
    "  \n",
    "iris <- left_join(iris, mean_iris, by = \"Species\", suffix = c( \"\", \".mean\") )\n",
    "head(iris)"
   ]
  },
  {
   "cell_type": "markdown",
   "metadata": {},
   "source": [
    "So for each measure- column we have to create an extra column to store the mean. A better way would be to first `gather` the measure-columns into a single column: "
   ]
  },
  {
   "cell_type": "code",
   "execution_count": null,
   "metadata": {},
   "outputs": [],
   "source": [
    "data(iris)\n",
    "head(iris)\n",
    "iris %>% gather(key = variable, value = value , -Species)"
   ]
  },
  {
   "cell_type": "markdown",
   "metadata": {},
   "source": [
    "Basically: `gather(data, key = “new name of combined columns\", value = “new name of value column\", -name of columns not to gather in key column)`\n",
    "Or you could specify the columns to gather: "
   ]
  },
  {
   "cell_type": "code",
   "execution_count": null,
   "metadata": {},
   "outputs": [],
   "source": [
    "ris %>% gather(key = variable, value = value,\n",
    "       Sepal.Length, Sepal.Width, Petal.Length, Petal.Width)"
   ]
  },
  {
   "cell_type": "markdown",
   "metadata": {},
   "source": [
    "Now let's use what we have learned to streamline our case study objective:  "
   ]
  },
  {
   "cell_type": "code",
   "execution_count": null,
   "metadata": {},
   "outputs": [],
   "source": [
    "iris %>% gather(key = variable, value = value , -Species) %>% \n",
    "  group_by(Species) %>% \n",
    "  mutate(mean_value = mean(value))"
   ]
  },
  {
   "cell_type": "markdown",
   "metadata": {},
   "source": [
    "Then there is also `spread`, which creates the wider format of data:  "
   ]
  },
  {
   "cell_type": "code",
   "execution_count": null,
   "metadata": {},
   "outputs": [],
   "source": [
    "iris <- iris %>% mutate(id = 1:nrow(iris)) # add id so we can go from long format back to wide format\n",
    "iris_long <- iris %>% gather(key = variable, value = value , -(Species:id)) \n",
    "iris_wide <- iris_long %>% spread( key = variable, value = value )"
   ]
  },
  {
   "cell_type": "markdown",
   "metadata": {},
   "source": [
    "basically: `spread(longdata, key = name of column to spread, name of value column)` "
   ]
  },
  {
   "cell_type": "markdown",
   "metadata": {},
   "source": [
    "* exercise 1: Start with the iris data, go to long format with `gather` then back to the original format, but now without using the `id` column. You can reload/ clean the iris data with `data(iris)`  Did this work? Why (not)? What does the `id` represent? "
   ]
  },
  {
   "cell_type": "code",
   "execution_count": null,
   "metadata": {},
   "outputs": [],
   "source": []
  },
  {
   "cell_type": "markdown",
   "metadata": {},
   "source": [
    "* exercise 2: Create a table that contains the max value of each measurement for each species from the `iris` data. What species has the plant with the largest petals and sepals? "
   ]
  },
  {
   "cell_type": "code",
   "execution_count": null,
   "metadata": {},
   "outputs": [],
   "source": []
  },
  {
   "cell_type": "markdown",
   "metadata": {},
   "source": [
    "* exercise 3: Have a look at the `Theoph` dataset. Calculate for each `Subject` the maximum plasma concentration"
   ]
  },
  {
   "cell_type": "code",
   "execution_count": 7,
   "metadata": {},
   "outputs": [
    {
     "data": {
      "text/html": [
       "<table>\n",
       "<thead><tr><th scope=col>Subject</th><th scope=col>Wt</th><th scope=col>Dose</th><th scope=col>Time</th><th scope=col>conc</th></tr></thead>\n",
       "<tbody>\n",
       "\t<tr><td>1    </td><td>79.6 </td><td>4.02 </td><td>0.00 </td><td> 0.74</td></tr>\n",
       "\t<tr><td>1    </td><td>79.6 </td><td>4.02 </td><td>0.25 </td><td> 2.84</td></tr>\n",
       "\t<tr><td>1    </td><td>79.6 </td><td>4.02 </td><td>0.57 </td><td> 6.57</td></tr>\n",
       "\t<tr><td>1    </td><td>79.6 </td><td>4.02 </td><td>1.12 </td><td>10.50</td></tr>\n",
       "\t<tr><td>1    </td><td>79.6 </td><td>4.02 </td><td>2.02 </td><td> 9.66</td></tr>\n",
       "\t<tr><td>1    </td><td>79.6 </td><td>4.02 </td><td>3.82 </td><td> 8.58</td></tr>\n",
       "</tbody>\n",
       "</table>\n"
      ],
      "text/latex": [
       "\\begin{tabular}{r|lllll}\n",
       " Subject & Wt & Dose & Time & conc\\\\\n",
       "\\hline\n",
       "\t 1     & 79.6  & 4.02  & 0.00  &  0.74\\\\\n",
       "\t 1     & 79.6  & 4.02  & 0.25  &  2.84\\\\\n",
       "\t 1     & 79.6  & 4.02  & 0.57  &  6.57\\\\\n",
       "\t 1     & 79.6  & 4.02  & 1.12  & 10.50\\\\\n",
       "\t 1     & 79.6  & 4.02  & 2.02  &  9.66\\\\\n",
       "\t 1     & 79.6  & 4.02  & 3.82  &  8.58\\\\\n",
       "\\end{tabular}\n"
      ],
      "text/markdown": [
       "\n",
       "Subject | Wt | Dose | Time | conc | \n",
       "|---|---|---|---|---|---|\n",
       "| 1     | 79.6  | 4.02  | 0.00  |  0.74 | \n",
       "| 1     | 79.6  | 4.02  | 0.25  |  2.84 | \n",
       "| 1     | 79.6  | 4.02  | 0.57  |  6.57 | \n",
       "| 1     | 79.6  | 4.02  | 1.12  | 10.50 | \n",
       "| 1     | 79.6  | 4.02  | 2.02  |  9.66 | \n",
       "| 1     | 79.6  | 4.02  | 3.82  |  8.58 | \n",
       "\n",
       "\n"
      ],
      "text/plain": [
       "  Subject Wt   Dose Time conc \n",
       "1 1       79.6 4.02 0.00  0.74\n",
       "2 1       79.6 4.02 0.25  2.84\n",
       "3 1       79.6 4.02 0.57  6.57\n",
       "4 1       79.6 4.02 1.12 10.50\n",
       "5 1       79.6 4.02 2.02  9.66\n",
       "6 1       79.6 4.02 3.82  8.58"
      ]
     },
     "metadata": {},
     "output_type": "display_data"
    }
   ],
   "source": [
    "head(Theoph)"
   ]
  },
  {
   "cell_type": "code",
   "execution_count": null,
   "metadata": {},
   "outputs": [],
   "source": []
  },
  {
   "cell_type": "markdown",
   "metadata": {},
   "source": [
    "* exercise 4: calculate the correlation, with the `cor` function, between the `max_conc` and subject weight `Wt`"
   ]
  },
  {
   "cell_type": "code",
   "execution_count": null,
   "metadata": {},
   "outputs": [],
   "source": []
  },
  {
   "cell_type": "markdown",
   "metadata": {},
   "source": [
    "* exercise 5: At what time points are the maximum plasma concentrations reached for each patient?  "
   ]
  },
  {
   "cell_type": "code",
   "execution_count": null,
   "metadata": {},
   "outputs": [],
   "source": []
  },
  {
   "cell_type": "code",
   "execution_count": null,
   "metadata": {},
   "outputs": [],
   "source": []
  },
  {
   "cell_type": "code",
   "execution_count": null,
   "metadata": {},
   "outputs": [],
   "source": []
  }
 ],
 "metadata": {
  "kernelspec": {
   "display_name": "R",
   "language": "R",
   "name": "ir"
  },
  "language_info": {
   "codemirror_mode": "r",
   "file_extension": ".r",
   "mimetype": "text/x-r-source",
   "name": "R",
   "pygments_lexer": "r",
   "version": "3.5.1"
  }
 },
 "nbformat": 4,
 "nbformat_minor": 2
}
