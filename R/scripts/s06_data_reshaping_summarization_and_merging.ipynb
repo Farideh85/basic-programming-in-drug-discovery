{
 "cells": [
  {
   "cell_type": "markdown",
   "metadata": {},
   "source": [
    "## data reshaping, summarization and merging  "
   ]
  },
  {
   "cell_type": "markdown",
   "metadata": {},
   "source": [
    "Data reshaping, summarization and merging are fundamental data analysis operations. There are a multitude of ways this can be done in R, this can make R very confusing. For this reason we will stick to the `dplyr/tidyr` syntax.   \n",
    "To explain these concepts and to demonstrate use-cases, we will perform a small case study.  \n",
    "Carefully run the lines and make sure to understand each part.  \n",
    "\n",
    "Observe the `iris` data set:"
   ]
  },
  {
   "cell_type": "code",
   "execution_count": null,
   "metadata": {},
   "outputs": [],
   "source": [
    "head(iris)"
   ]
  },
  {
   "cell_type": "markdown",
   "metadata": {},
   "source": [
    "Our goal is to calculate the average sepal and petal lengths and widths and add it to the existing iris table. Let us do this now, we first define the groups, then calculate the mean and finally add the result of this calculation to the iris table: "
   ]
  },
  {
   "cell_type": "code",
   "execution_count": null,
   "metadata": {},
   "outputs": [],
   "source": [
    "mean_iris <- iris %>% group_by(Species) %>%\n",
    "  summarise_all(mean) \n",
    "  \n",
    "iris <- left_join(iris, mean_iris, by = \"Species\", suffix = c( \"\", \".mean\") )\n",
    "head(iris)"
   ]
  },
  {
   "cell_type": "markdown",
   "metadata": {},
   "source": [
    "So for each measure- column we have to create an extra column to store the mean. A better way would be to first `gather` the measure-columns into a single column: "
   ]
  },
  {
   "cell_type": "code",
   "execution_count": null,
   "metadata": {},
   "outputs": [],
   "source": [
    "data(iris)\n",
    "head(iris)\n",
    "iris %>% gather(key = variable, value = value , -Species)"
   ]
  },
  {
   "cell_type": "markdown",
   "metadata": {},
   "source": [
    "Basically: `gather(data, key = “new name of combined columns\", value = “new name of value column\", -name of columns not to gather in key column)`\n",
    "Or you could specify the columns to gather: "
   ]
  },
  {
   "cell_type": "code",
   "execution_count": null,
   "metadata": {},
   "outputs": [],
   "source": [
    "ris %>% gather(key = variable, value = value,\n",
    "       Sepal.Length, Sepal.Width, Petal.Length, Petal.Width)"
   ]
  },
  {
   "cell_type": "markdown",
   "metadata": {},
   "source": [
    "Now let's use what we have learned to streamline our case study objective:  "
   ]
  },
  {
   "cell_type": "code",
   "execution_count": null,
   "metadata": {},
   "outputs": [],
   "source": [
    "iris %>% gather(key = variable, value = value , -Species) %>% \n",
    "  group_by(Species) %>% \n",
    "  mutate(mean_value = mean(value))"
   ]
  },
  {
   "cell_type": "markdown",
   "metadata": {},
   "source": [
    "Then there is also `spread`, which creates the wider format of data:  "
   ]
  },
  {
   "cell_type": "code",
   "execution_count": null,
   "metadata": {},
   "outputs": [],
   "source": [
    "iris <- iris %>% mutate(id = 1:nrow(iris)) # add id so we can go from long format back to wide format\n",
    "iris_long <- iris %>% gather(key = variable, value = value , -(Species:id)) \n",
    "iris_wide <- iris_long %>% spread( key = variable, value = value )"
   ]
  },
  {
   "cell_type": "markdown",
   "metadata": {},
   "source": [
    "basically: `spread(longdata, key = name of column to spread, name of value column)` "
   ]
  },
  {
   "cell_type": "markdown",
   "metadata": {},
   "source": [
    "* exercise: Start with the iris data, go to long format with `gather` then back to the original format, but now without using the `id` column. You can reload/ clean the iris data with `data(iris)`  Did this work? Why (not)? What does the `id` represent? "
   ]
  },
  {
   "cell_type": "code",
   "execution_count": null,
   "metadata": {},
   "outputs": [],
   "source": []
  },
  {
   "cell_type": "markdown",
   "metadata": {},
   "source": [
    "* exercise: Create a table that contains the max value of each measurement for each species from the `iris` data. What species has the plant with the largest petals and sepals? "
   ]
  },
  {
   "cell_type": "code",
   "execution_count": null,
   "metadata": {},
   "outputs": [],
   "source": []
  }
 ],
 "metadata": {
  "kernelspec": {
   "display_name": "R",
   "language": "R",
   "name": "ir"
  },
  "language_info": {
   "codemirror_mode": "r",
   "file_extension": ".r",
   "mimetype": "text/x-r-source",
   "name": "R",
   "pygments_lexer": "r",
   "version": "3.5.1"
  }
 },
 "nbformat": 4,
 "nbformat_minor": 2
}
