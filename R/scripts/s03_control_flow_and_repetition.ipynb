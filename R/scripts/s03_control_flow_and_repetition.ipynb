{
 "cells": [
  {
   "cell_type": "markdown",
   "metadata": {},
   "source": [
    "## control flow and repetition  \n",
    "Next to one time diving into data for analysis, it is often useful to create automated workflows, your own packages or even pieces of software. In these cases it is useful to learn a little bit more than loading and accessing data, so we will dive into a bit more advanced programming tools, such as control flow and repetition. These concepts are often also useful even for interactive data analysis.  \n",
    "\n",
    "### conditionals\n",
    "\n",
    "Conditionals make your program perform an action depending on the input. To do this the `if else` syntax is used. \n",
    "The basic syntax is:  `if(TRUE) { do this }`  \n",
    "For example;  "
   ]
  },
  {
   "cell_type": "code",
   "execution_count": null,
   "metadata": {},
   "outputs": [],
   "source": [
    "sepal_size <- 6\n",
    "if( sepal_size < 5 ) { # note the opening curly braces  \n",
    "  sepal_class <- \"small\"\n",
    "} # note the matching closing curly braces "
   ]
  },
  {
   "cell_type": "markdown",
   "metadata": {},
   "source": [
    "* exercise: run the lines above, what is `sepal_class` now? Does it exist? Why (not)?  \n",
    "\n",
    "So the `if` statement above was evaluated as `FALSE` and the lines between the curly braces were skipped. Wouldn't it be nice to define sepal_class as `large` without creating another separate `if` statement? Rejoice, we can!  "
   ]
  },
  {
   "cell_type": "code",
   "execution_count": null,
   "metadata": {},
   "outputs": [],
   "source": [
    "sepal_size <- 6\n",
    "if( sepal_size < 5 ) { \n",
    "  sepal_class <- \"small\"\n",
    "} else {\n",
    "  sepal_class <- \"large\"\n",
    "}"
   ]
  },
  {
   "cell_type": "markdown",
   "metadata": {},
   "source": [
    "It is even possible to create as many `else if` conditionals as you like:  "
   ]
  },
  {
   "cell_type": "code",
   "execution_count": null,
   "metadata": {},
   "outputs": [],
   "source": [
    "sepal_size <- 6\n",
    "if( sepal_size < 5 ) { \n",
    "  sepal_class <- \"small\"\n",
    "} else if( sepal_size > 8) {\n",
    "  sepal_class <- \"large\"\n",
    "} else {\n",
    "  sepal_class <- \"medium\"\n",
    "}"
   ]
  },
  {
   "cell_type": "markdown",
   "metadata": {},
   "source": [
    "* exercise: without running the code above, what does `sepal_class` evaluate to?"
   ]
  },
  {
   "cell_type": "code",
   "execution_count": null,
   "metadata": {},
   "outputs": [],
   "source": []
  },
  {
   "cell_type": "markdown",
   "metadata": {},
   "source": [
    "* exercise: modify the example above to include another interval between 5 and 6 that evaluates to `medium-small`  "
   ]
  },
  {
   "cell_type": "code",
   "execution_count": null,
   "metadata": {},
   "outputs": [],
   "source": []
  },
  {
   "cell_type": "markdown",
   "metadata": {},
   "source": [
    "### for loops\n",
    "Coding would be a lot less useful if we would not be able to repeat operations easily. For repetition R uses the following loop syntax: `for(i in 1:10)`{ code to repeat in here }.  The `i` can be any made up placeholder name, and the number of repetitions can be to your choosing as well. In this example we perform 10 repetitions with the sequence of numbers from 1 to 10. Take note the variable `i` will evaluate to each of these numbers in the sequence. This is useful for indexing as will become clear in the following example:  "
   ]
  },
  {
   "cell_type": "code",
   "execution_count": null,
   "metadata": {},
   "outputs": [],
   "source": [
    "for(i in 1:5) {\n",
    "  print(paste0(\"is is: \", i))\n",
    "  result <- i + 1\n",
    "  print(paste0(\"and i + 1 is: \", result))\n",
    "  }"
   ]
  },
  {
   "cell_type": "markdown",
   "metadata": {},
   "source": [
    "* exercise: create a for loop like in the example above, but let `i` evaluate to the sequence 1, 3, 5, 7, 9 instead.  "
   ]
  },
  {
   "cell_type": "code",
   "execution_count": null,
   "metadata": {},
   "outputs": [],
   "source": []
  },
  {
   "cell_type": "markdown",
   "metadata": {},
   "source": [
    "* exercise: modify the script you just created so that it only prints values that are larger than 4 and smaller than 8. You will need to add an `if` statement inside the loop somewhere!   "
   ]
  },
  {
   "cell_type": "code",
   "execution_count": null,
   "metadata": {},
   "outputs": [],
   "source": []
  },
  {
   "cell_type": "markdown",
   "metadata": {},
   "source": [
    "* exercise: add a third gender to the script below:  "
   ]
  },
  {
   "cell_type": "code",
   "execution_count": null,
   "metadata": {},
   "outputs": [],
   "source": [
    "gender <- readline(prompt = \"What is your gender, M/F?\")\n",
    "if(gender == \"M\"){\n",
    "  print(\"Hi Sir\")\n",
    "} else if(gender == \"F\") {\n",
    "  print(\"Hi Mam\")\n",
    "} else {\n",
    "  print(\"Please input M or F\")\n",
    "}"
   ]
  },
  {
   "cell_type": "markdown",
   "metadata": {},
   "source": [
    "* final exam question: create a small gambling game. Here are the rules:  \n",
    "** you start with 5 euro.  \n",
    "** you loose when you have 0 or less euro.  \n",
    "** you have to guess how the dice will fall. \n",
    "** if you guess correct you win 3 euro  \n",
    "** if you guess incorrect you loose 1 euro  \n",
    "** use a loop to play 5 times, you will ask for user input 5 times  \n",
    "** at each iteration inform the player how much money is left    \n",
    "Hints:\n",
    "This is how you can program a dice in R: `sample(1:6, 1)`\n",
    "You will need the `readline` for user input (see previous exercise)\n",
    "You can stop a loop with `break` "
   ]
  },
  {
   "cell_type": "code",
   "execution_count": null,
   "metadata": {},
   "outputs": [],
   "source": []
  },
  {
   "cell_type": "markdown",
   "metadata": {},
   "source": [
    "There is a way to get rid of the arbitrary 5 iterations, by using a `while` loop. Here is an example:"
   ]
  },
  {
   "cell_type": "code",
   "execution_count": null,
   "metadata": {},
   "outputs": [],
   "source": [
    "time_now <- Sys.time()\n",
    "while(Sys.time() < time_now + 10 ) {\n",
    "  print(Sys.time())\n",
    "  Sys.sleep(0.5)\n",
    "}"
   ]
  },
  {
   "cell_type": "markdown",
   "metadata": {},
   "source": [
    "* exercise: modify your game by replacing the `for` loop with a `while` loop.  "
   ]
  },
  {
   "cell_type": "code",
   "execution_count": null,
   "metadata": {},
   "outputs": [],
   "source": []
  }
 ],
 "metadata": {
  "kernelspec": {
   "display_name": "R",
   "language": "R",
   "name": "ir"
  },
  "language_info": {
   "codemirror_mode": "r",
   "file_extension": ".r",
   "mimetype": "text/x-r-source",
   "name": "R",
   "pygments_lexer": "r",
   "version": "3.5.1"
  }
 },
 "nbformat": 4,
 "nbformat_minor": 2
}
