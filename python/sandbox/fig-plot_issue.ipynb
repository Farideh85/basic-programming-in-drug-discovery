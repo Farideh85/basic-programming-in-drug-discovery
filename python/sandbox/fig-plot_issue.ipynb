{
 "cells": [
  {
   "cell_type": "code",
   "execution_count": 1,
   "metadata": {},
   "outputs": [
    {
     "name": "stdout",
     "output_type": "stream",
     "text": [
      "Populating the interactive namespace from numpy and matplotlib\n"
     ]
    }
   ],
   "source": [
    "%pylab inline\n",
    "import csv\n",
    "import matplotlib.pyplot as plt\n",
    "import numpy as np"
   ]
  },
  {
   "cell_type": "code",
   "execution_count": 3,
   "metadata": {},
   "outputs": [
    {
     "name": "stdout",
     "output_type": "stream",
     "text": [
      "[['compound1', ' 10', ' 14'], ['compound2', ' 20', ' 570'], ['compound3', ' 30', ' 1302'], ['compound4', ' 40', ' 2838'], ['compound5', ' 50', ' 4212'], ['compound6', ' 60', ' 4590']]\n"
     ]
    }
   ],
   "source": [
    "with open('../exercises/datafiles/labresults.csv', 'r') as file:\n",
    "    reader = csv.reader(file)\n",
    "    header_line = next(reader) #store the header into a separate file\n",
    "    results_list = list(reader)\n",
    "    print(results_list)"
   ]
  },
  {
   "cell_type": "markdown",
   "metadata": {},
   "source": [
    "# Plot as strings"
   ]
  },
  {
   "cell_type": "code",
   "execution_count": 9,
   "metadata": {},
   "outputs": [
    {
     "name": "stdout",
     "output_type": "stream",
     "text": [
      "[' 10', ' 20', ' 30', ' 40', ' 50', ' 60']\n",
      "[' 14', ' 570', ' 1302', ' 2838', ' 4212', ' 4590']\n"
     ]
    }
   ],
   "source": [
    "x_results = []\n",
    "y_results = []\n",
    "for entries in results_list:\n",
    "    x_results.append(entries[1])\n",
    "    y_results.append(entries[2])\n",
    "\n",
    "print(x_results)\n",
    "print(y_results)"
   ]
  },
  {
   "cell_type": "code",
   "execution_count": 10,
   "metadata": {},
   "outputs": [
    {
     "data": {
      "text/plain": [
       "[Text(0,0.5,'Counts'),\n",
       " Text(0.5,0,'Concentration'),\n",
       " Text(0.5,1,'Labresults plot')]"
      ]
     },
     "execution_count": 10,
     "metadata": {},
     "output_type": "execute_result"
    },
    {
     "data": {
      "image/png": "[encoded data removed]",
      "text/plain": [
       "<Figure size 432x288 with 1 Axes>"
      ]
     },
     "metadata": {
      "needs_background": "light"
     },
     "output_type": "display_data"
    }
   ],
   "source": [
    "fig = plt.figure(figsize=(6,4))\n",
    "ax = plt.gca()\n",
    "ax.set_ylim(bottom=0, top=5000, auto=True)\n",
    "ax.plot(x_results,y_results,'-sr') \n",
    "ax.set(title='Labresults plot',xlabel='Concentration',ylabel='Counts')"
   ]
  },
  {
   "cell_type": "markdown",
   "metadata": {},
   "source": [
    "# Plot as integers"
   ]
  },
  {
   "cell_type": "code",
   "execution_count": 11,
   "metadata": {},
   "outputs": [],
   "source": [
    "x_results = []\n",
    "y_results = []\n",
    "for entries in results_list:\n",
    "    x_results.append(int(entries[1]))\n",
    "    y_results.append(int(entries[2]))"
   ]
  },
  {
   "cell_type": "code",
   "execution_count": 12,
   "metadata": {},
   "outputs": [
    {
     "data": {
      "text/plain": [
       "[Text(0,0.5,'Counts'),\n",
       " Text(0.5,0,'Concentration'),\n",
       " Text(0.5,1,'Labresults plot')]"
      ]
     },
     "execution_count": 12,
     "metadata": {},
     "output_type": "execute_result"
    },
    {
     "data": {
      "image/png": "[encoded data removed]",
      "text/plain": [
       "<Figure size 432x288 with 1 Axes>"
      ]
     },
     "metadata": {
      "needs_background": "light"
     },
     "output_type": "display_data"
    }
   ],
   "source": [
    "fig = plt.figure(figsize=(6,4))\n",
    "ax = plt.gca()\n",
    "ax.set_ylim(bottom=0, top=5000, auto=True)\n",
    "ax.plot(x_results,y_results,'-sr') \n",
    "ax.set(title='Labresults plot',xlabel='Concentration',ylabel='Counts')"
   ]
  },
  {
   "cell_type": "code",
   "execution_count": null,
   "metadata": {},
   "outputs": [],
   "source": []
  }
 ],
 "metadata": {
  "hide_input": false,
  "kernelspec": {
   "display_name": "python3",
   "language": "python",
   "name": "python3"
  },
  "language_info": {
   "codemirror_mode": {
    "name": "ipython",
    "version": 3
   },
   "file_extension": ".py",
   "mimetype": "text/x-python",
   "name": "python",
   "nbconvert_exporter": "python",
   "pygments_lexer": "ipython3",
   "version": "3.6.6"
  },
  "toc": {
   "base_numbering": 1,
   "nav_menu": {},
   "number_sections": false,
   "sideBar": true,
   "skip_h1_title": false,
   "title_cell": "Table of Contents",
   "title_sidebar": "Contents",
   "toc_cell": false,
   "toc_position": {},
   "toc_section_display": true,
   "toc_window_display": true
  }
 },
 "nbformat": 4,
 "nbformat_minor": 2
}
