{
 "cells": [
  {
   "cell_type": "code",
   "execution_count": 1,
   "metadata": {
    "slideshow": {
     "slide_type": "skip"
    }
   },
   "outputs": [],
   "source": [
    "import future"
   ]
  },
  {
   "cell_type": "markdown",
   "metadata": {
    "slideshow": {
     "slide_type": "slide"
    }
   },
   "source": [
    "# Using jupyter\n",
    "\n",
    "* Two main cell types: code and markdown\n",
    "* Two modes: edit mode (cursor visible) and command mode\n",
    "* Enter command mode: select cell and press enter\n",
    "* Execute cell: `ctrl+enter`"
   ]
  },
  {
   "cell_type": "code",
   "execution_count": 2,
   "metadata": {},
   "outputs": [
    {
     "name": "stdout",
     "output_type": "stream",
     "text": [
      "3.6.6 | packaged by conda-forge | (default, Jul 26 2018, 09:53:17) \n",
      "[GCC 4.8.2 20140120 (Red Hat 4.8.2-15)]\n"
     ]
    }
   ],
   "source": [
    "import sys\n",
    "print(sys.version)"
   ]
  },
  {
   "cell_type": "markdown",
   "metadata": {
    "slideshow": {
     "slide_type": "subslide"
    }
   },
   "source": [
    "# Accessing help \n",
    "\n",
    "* `?print`\n",
    "* Type command and use `shift+tab` \n",
    "    * once: basic doc string\n",
    "    * twice: extended doc string\n",
    "    * lots: same as `?`"
   ]
  },
  {
   "cell_type": "code",
   "execution_count": 3,
   "metadata": {
    "slideshow": {
     "slide_type": "-"
    }
   },
   "outputs": [],
   "source": [
    "?print"
   ]
  },
  {
   "cell_type": "markdown",
   "metadata": {
    "slideshow": {
     "slide_type": "slide"
    }
   },
   "source": [
    "# Our very first program - terminology"
   ]
  },
  {
   "cell_type": "code",
   "execution_count": 4,
   "metadata": {},
   "outputs": [
    {
     "name": "stdout",
     "output_type": "stream",
     "text": [
      "3\n"
     ]
    }
   ],
   "source": [
    "x = 1+2\n",
    "print(x)"
   ]
  },
  {
   "cell_type": "markdown",
   "metadata": {},
   "source": [
    "* Each line is an *statement*\n",
    "* `+` and `=` are *operators*\n",
    "    * The *assignment* operator `=` assigns a *value* to a *variable* `x`\n",
    "* Function call: `print(x)`"
   ]
  },
  {
   "cell_type": "markdown",
   "metadata": {
    "slideshow": {
     "slide_type": "subslide"
    }
   },
   "source": [
    "# Understanding error messages\n",
    "\n",
    "* When something is wrong, Python will show the exact problem."
   ]
  },
  {
   "cell_type": "code",
   "execution_count": 5,
   "metadata": {
    "slideshow": {
     "slide_type": "-"
    }
   },
   "outputs": [
    {
     "ename": "SyntaxError",
     "evalue": "invalid syntax (<ipython-input-5-205f9b5e4e93>, line 3)",
     "output_type": "error",
     "traceback": [
      "\u001b[0;36m  File \u001b[0;32m\"<ipython-input-5-205f9b5e4e93>\"\u001b[0;36m, line \u001b[0;32m3\u001b[0m\n\u001b[0;31m    print()\u001b[0m\n\u001b[0m        ^\u001b[0m\n\u001b[0;31mSyntaxError\u001b[0m\u001b[0;31m:\u001b[0m invalid syntax\n"
     ]
    }
   ],
   "source": [
    "a = 2\n",
    "print('x'\n",
    "print()\n",
    "a = 1"
   ]
  },
  {
   "cell_type": "markdown",
   "metadata": {
    "slideshow": {
     "slide_type": "subslide"
    }
   },
   "source": [
    "# Variable names\n",
    "\n",
    "* first character **must** be a letter\n",
    "    * or a `_`, but this is reserved for specific usages\n",
    "* second character (if used) can be a letter, digit, or `_`\n",
    "* variable names are **case sensitive**"
   ]
  },
  {
   "cell_type": "code",
   "execution_count": 6,
   "metadata": {},
   "outputs": [
    {
     "ename": "SyntaxError",
     "evalue": "invalid syntax (<ipython-input-6-e5eb9d37ec71>, line 1)",
     "output_type": "error",
     "traceback": [
      "\u001b[0;36m  File \u001b[0;32m\"<ipython-input-6-e5eb9d37ec71>\"\u001b[0;36m, line \u001b[0;32m1\u001b[0m\n\u001b[0;31m    0a = 1\u001b[0m\n\u001b[0m     ^\u001b[0m\n\u001b[0;31mSyntaxError\u001b[0m\u001b[0;31m:\u001b[0m invalid syntax\n"
     ]
    }
   ],
   "source": [
    "0a = 1\n",
    "print(a)"
   ]
  },
  {
   "cell_type": "markdown",
   "metadata": {
    "slideshow": {
     "slide_type": "slide"
    }
   },
   "source": [
    "# Python Syntax - printing and cell output\n",
    "\n",
    "Execute the following cells"
   ]
  },
  {
   "cell_type": "code",
   "execution_count": 7,
   "metadata": {
    "slideshow": {
     "slide_type": "-"
    }
   },
   "outputs": [
    {
     "data": {
      "text/plain": [
       "'hello world'"
      ]
     },
     "execution_count": 7,
     "metadata": {},
     "output_type": "execute_result"
    }
   ],
   "source": [
    "'hello world'"
   ]
  },
  {
   "cell_type": "code",
   "execution_count": 8,
   "metadata": {
    "slideshow": {
     "slide_type": "-"
    }
   },
   "outputs": [],
   "source": [
    "'hello world'\n",
    "x = 1"
   ]
  },
  {
   "cell_type": "code",
   "execution_count": 9,
   "metadata": {
    "slideshow": {
     "slide_type": "-"
    }
   },
   "outputs": [
    {
     "name": "stdout",
     "output_type": "stream",
     "text": [
      "hello world\n"
     ]
    }
   ],
   "source": [
    "print('hello world')\n",
    "x = 1"
   ]
  },
  {
   "cell_type": "markdown",
   "metadata": {
    "slideshow": {
     "slide_type": "subslide"
    }
   },
   "source": [
    "# Python Syntax - floats and integers\n",
    "\n",
    "* Numbers are either integers (whole numbers) or floats.\n"
   ]
  },
  {
   "cell_type": "code",
   "execution_count": 35,
   "metadata": {},
   "outputs": [
    {
     "name": "stdout",
     "output_type": "stream",
     "text": [
      "<class 'int'>\n",
      "<class 'float'>\n"
     ]
    }
   ],
   "source": [
    "x = 1\n",
    "y = 2.5\n",
    "print(type(x))\n",
    "print(type(y))"
   ]
  },
  {
   "cell_type": "markdown",
   "metadata": {
    "slideshow": {
     "slide_type": "subslide"
    }
   },
   "source": [
    "# Python Syntax - combining floats and integers\n",
    "\n",
    "* Create two variables and make 1 a float and 1 an integer\n",
    "* Use `type` to test what happens if you:\n",
    "    * take the sum or difference of 2 floats, 2 integers, or one of each\n",
    "    * multiply 2 floats, 2 integers, or one of each\n",
    "    * divide 2 floats, 2 integers, or one of each"
   ]
  },
  {
   "cell_type": "markdown",
   "metadata": {
    "slideshow": {
     "slide_type": "subslide"
    }
   },
   "source": [
    "# Python Syntax - combining floats and integers\n",
    "\n",
    "* `a + b`, `a - b`, and `a * b`\n",
    "    * if a and b are of the same type, returns that type\n",
    "    * if a or b is a float, returns float\n",
    "* `a / b`: always a float!"
   ]
  },
  {
   "cell_type": "code",
   "execution_count": null,
   "metadata": {
    "slideshow": {
     "slide_type": "-"
    }
   },
   "outputs": [],
   "source": [
    "x = 1; y = 2.5; z = 1.\n",
    "print(type(x+x))\n",
    "print(type(y/y))\n",
    "print(type(x/z))\n"
   ]
  },
  {
   "cell_type": "markdown",
   "metadata": {
    "slideshow": {
     "slide_type": "subslide"
    }
   },
   "source": [
    "# Python Syntax - strings\n",
    "\n",
    "Execute the following code and explain the result"
   ]
  },
  {
   "cell_type": "code",
   "execution_count": null,
   "metadata": {},
   "outputs": [],
   "source": [
    "x = 1; z = 2.; s = 'hello world'\n",
    "print(x+s)"
   ]
  },
  {
   "cell_type": "markdown",
   "metadata": {
    "slideshow": {
     "slide_type": "subslide"
    }
   },
   "source": [
    "# Python Syntax - creating strings\n",
    "\n",
    "* Generate filenames based on variables\n",
    "* Generate messages based on variables\n",
    "\n",
    "Strings are generated with the format function:"
   ]
  },
  {
   "cell_type": "code",
   "execution_count": 14,
   "metadata": {
    "slideshow": {
     "slide_type": "-"
    }
   },
   "outputs": [
    {
     "name": "stdout",
     "output_type": "stream",
     "text": [
      "x = 1\n"
     ]
    }
   ],
   "source": [
    "a = 1\n",
    "print('{} = {}'.format('x',a))"
   ]
  },
  {
   "cell_type": "markdown",
   "metadata": {
    "slideshow": {
     "slide_type": "-"
    }
   },
   "source": [
    "Generate the following string using variables `x`, `y`, `z`, and `s`: \n",
    "\n",
    "```hello world: x = 1, y = 2, z = 2.```"
   ]
  },
  {
   "cell_type": "code",
   "execution_count": 37,
   "metadata": {
    "slideshow": {
     "slide_type": "-"
    }
   },
   "outputs": [],
   "source": [
    "base = 'hello world'; x = 1; y = 2; z = 2\n",
    "s = '{}: x = {}, y = {}, z = {}'.format(base,x,y,z)\n",
    "print(s)"
   ]
  },
  {
   "cell_type": "markdown",
   "metadata": {
    "slideshow": {
     "slide_type": "subslide"
    }
   },
   "source": [
    "# Python Syntax - Lists\n",
    "\n",
    "* A list stores multiple values\n",
    "* Items in a list can have different types\n",
    "* Lists can be combined with `+`\n",
    "* List length: `len(l)`"
   ]
  },
  {
   "cell_type": "code",
   "execution_count": 39,
   "metadata": {},
   "outputs": [
    {
     "name": "stdout",
     "output_type": "stream",
     "text": [
      "[1, 'x', 1.2] 3\n"
     ]
    }
   ],
   "source": [
    "l = [1,'x',1.2]\n",
    "print(l,len(l))"
   ]
  },
  {
   "cell_type": "markdown",
   "metadata": {
    "slideshow": {
     "slide_type": "subslide"
    }
   },
   "source": [
    "# Python Syntax - List indexing\n",
    "\n",
    "* Access element `i`: `l[i]`\n",
    "* Access range of elements: 'l[start:stop:step]`\n",
    "* **First element has index 0!**\n",
    "* **Last element has index `len(l)-1`!**\n",
    "* Negative indexing: index -1 = len(l)-1; index -2 = len(l)-2; etc."
   ]
  },
  {
   "cell_type": "code",
   "execution_count": 41,
   "metadata": {},
   "outputs": [
    {
     "name": "stdout",
     "output_type": "stream",
     "text": [
      "1\n",
      "5\n",
      "4\n"
     ]
    }
   ],
   "source": [
    "l = [1,2,3,4,5]\n",
    "print(l[0])\n",
    "print(l[len(l)-1])\n",
    "print(l[-2])"
   ]
  },
  {
   "cell_type": "markdown",
   "metadata": {
    "slideshow": {
     "slide_type": "subslide"
    }
   },
   "source": [
    "# Python Syntax - Lists\n",
    "\n",
    "* Creating a list: `l = [1,2,3,4,5]`\n",
    "* Access element `i`: `l[i]` or a range of elements: 'l[start:stop:step]`\n",
    "* List length: `len(l)`\n",
    "\n",
    "\n",
    "1. Generate the list `l` \n",
    "2. Print the first and last element\n",
    "3. Print every second element"
   ]
  },
  {
   "cell_type": "code",
   "execution_count": null,
   "metadata": {
    "slideshow": {
     "slide_type": "fragment"
    }
   },
   "outputs": [],
   "source": [
    "l = [1,2,3,4,5]\n",
    "print('the first element of l is {}'.format(l[0]))\n",
    "print('the last element of l is {}'.format(l[-1]))\n",
    "print(l[0:len(l):2]) "
   ]
  },
  {
   "cell_type": "markdown",
   "metadata": {
    "slideshow": {
     "slide_type": "subslide"
    }
   },
   "source": [
    "# Python Syntax - Other containers\n",
    "\n",
    "* Dictionaries are like lists, but with keys instead of indexes:"
   ]
  },
  {
   "cell_type": "code",
   "execution_count": 42,
   "metadata": {},
   "outputs": [
    {
     "data": {
      "text/plain": [
       "1"
      ]
     },
     "execution_count": 42,
     "metadata": {},
     "output_type": "execute_result"
    }
   ],
   "source": [
    "d = {'first':1,'second':2}\n",
    "d['first']"
   ]
  },
  {
   "cell_type": "markdown",
   "metadata": {
    "slideshow": {
     "slide_type": "subslide"
    }
   },
   "source": [
    "# Python Syntax - Other containers\n",
    "\n",
    "* Tuples are immutable lists"
   ]
  },
  {
   "cell_type": "code",
   "execution_count": 44,
   "metadata": {},
   "outputs": [
    {
     "name": "stdout",
     "output_type": "stream",
     "text": [
      "[0, 2, 3]\n"
     ]
    },
    {
     "ename": "TypeError",
     "evalue": "'tuple' object does not support item assignment",
     "output_type": "error",
     "traceback": [
      "\u001b[0;31m---------------------------------------------------------------------------\u001b[0m",
      "\u001b[0;31mTypeError\u001b[0m                                 Traceback (most recent call last)",
      "\u001b[0;32m<ipython-input-44-fd174e980b3f>\u001b[0m in \u001b[0;36m<module>\u001b[0;34m()\u001b[0m\n\u001b[1;32m      3\u001b[0m \u001b[0mprint\u001b[0m\u001b[0;34m(\u001b[0m\u001b[0ml\u001b[0m\u001b[0;34m)\u001b[0m\u001b[0;34m\u001b[0m\u001b[0m\n\u001b[1;32m      4\u001b[0m \u001b[0mt\u001b[0m \u001b[0;34m=\u001b[0m \u001b[0;34m(\u001b[0m\u001b[0;36m1\u001b[0m\u001b[0;34m,\u001b[0m\u001b[0;36m2\u001b[0m\u001b[0;34m,\u001b[0m\u001b[0;36m3\u001b[0m\u001b[0;34m)\u001b[0m\u001b[0;34m\u001b[0m\u001b[0m\n\u001b[0;32m----> 5\u001b[0;31m \u001b[0mt\u001b[0m\u001b[0;34m[\u001b[0m\u001b[0;36m1\u001b[0m\u001b[0;34m]\u001b[0m \u001b[0;34m=\u001b[0m \u001b[0;36m0\u001b[0m\u001b[0;34m\u001b[0m\u001b[0m\n\u001b[0m",
      "\u001b[0;31mTypeError\u001b[0m: 'tuple' object does not support item assignment"
     ]
    }
   ],
   "source": [
    "l = [1,2,3]\n",
    "l[0] = 0\n",
    "print(l)\n",
    "t = (1,2,3)\n",
    "t[1] = 0"
   ]
  },
  {
   "cell_type": "markdown",
   "metadata": {
    "slideshow": {
     "slide_type": "slide"
    }
   },
   "source": [
    "# Control flow - loops\n",
    "\n",
    "Simple loop over a list"
   ]
  },
  {
   "cell_type": "code",
   "execution_count": 17,
   "metadata": {},
   "outputs": [
    {
     "name": "stdout",
     "output_type": "stream",
     "text": [
      "1\n",
      "2\n",
      "3\n"
     ]
    }
   ],
   "source": [
    "for i in [1,2,3]:\n",
    "    print(i)"
   ]
  },
  {
   "cell_type": "markdown",
   "metadata": {},
   "source": [
    "* Note that in Python **WHITE SPACE MATTERS**\n",
    "* Run the following"
   ]
  },
  {
   "cell_type": "code",
   "execution_count": null,
   "metadata": {
    "slideshow": {
     "slide_type": "-"
    }
   },
   "outputs": [],
   "source": [
    "for i in [1,2,3]:\n",
    "     print(i)\n",
    "    print(i*2)"
   ]
  },
  {
   "cell_type": "markdown",
   "metadata": {
    "slideshow": {
     "slide_type": "subslide"
    }
   },
   "source": [
    "# Control flow - loops\n",
    "\n",
    "Loop from start to stop:"
   ]
  },
  {
   "cell_type": "code",
   "execution_count": 19,
   "metadata": {},
   "outputs": [
    {
     "name": "stdout",
     "output_type": "stream",
     "text": [
      "0\n",
      "1\n",
      "2\n"
     ]
    }
   ],
   "source": [
    "for i in range(0,3,1):\n",
    "    print(i)"
   ]
  },
  {
   "cell_type": "markdown",
   "metadata": {},
   "source": [
    "Create a list `l`, loop over that list using the `range` function and print the index and value of each item in a nicely formatted string (using `format`)."
   ]
  },
  {
   "cell_type": "code",
   "execution_count": null,
   "metadata": {
    "slideshow": {
     "slide_type": "fragment"
    }
   },
   "outputs": [],
   "source": [
    "l = [10,20,30]\n",
    "for i in range(len(l)):\n",
    "    print('index = {} - value = {}'.format(i,l[i]))"
   ]
  },
  {
   "cell_type": "markdown",
   "metadata": {
    "slideshow": {
     "slide_type": "subslide"
    }
   },
   "source": [
    "# Control flow - loops\n",
    "\n",
    "* Best of both worlds: `enumerate` - loop with index *and* value"
   ]
  },
  {
   "cell_type": "code",
   "execution_count": 46,
   "metadata": {},
   "outputs": [
    {
     "name": "stdout",
     "output_type": "stream",
     "text": [
      "index = 0 - value = 10\n",
      "index = 1 - value = 20\n",
      "index = 2 - value = 30\n"
     ]
    }
   ],
   "source": [
    "l = [10,20,30]\n",
    "for i,v in enumerate(l):\n",
    "    print('index = {} - value = {}'.format(i,v))"
   ]
  },
  {
   "cell_type": "markdown",
   "metadata": {
    "slideshow": {
     "slide_type": "subslide"
    }
   },
   "source": [
    "# Control flow - conditionals\n",
    "\n",
    "* Comparison operators - `==`, `!=`, `>`, `>=`, `<`, and `<=` - test a condition and return a *boolean* value.\n",
    "* Create three variables: `a = 1`, `b = 2`, `c = 1`; and use them to explore the boolean operators."
   ]
  },
  {
   "cell_type": "code",
   "execution_count": 22,
   "metadata": {
    "slideshow": {
     "slide_type": "fragment"
    }
   },
   "outputs": [
    {
     "name": "stdout",
     "output_type": "stream",
     "text": [
      "False True False False True True\n",
      "True False False True False True\n"
     ]
    }
   ],
   "source": [
    "a = 1\n",
    "b = 2\n",
    "c = 1\n",
    "x = False\n",
    "print(a==b,a!=b,a>b,a>=b,a<b,a<=b)\n",
    "print(a==c,a!=c,a>c,a>=c,a<c,a<=c)"
   ]
  },
  {
   "cell_type": "markdown",
   "metadata": {
    "slideshow": {
     "slide_type": "subslide"
    }
   },
   "source": [
    "# Control flow - conditionals\n",
    "\n",
    "* `not a` inverses the state of `a`\n",
    "* `a==1 and b==1`: returns `True` when a is 1 *and* b is 1\n",
    "* `a==1 or b==1`: returns `True` when a is 1 *and/or* b is 1\n",
    "\n",
    "Implement tests for:\n",
    "* $0 < a < 2$\n",
    "* $a > 1$ and $b \\neq 1$\n",
    "* $a = 1$ and $0 < b \\leq 3$\n"
   ]
  },
  {
   "cell_type": "code",
   "execution_count": 23,
   "metadata": {
    "slideshow": {
     "slide_type": "fragment"
    }
   },
   "outputs": [
    {
     "name": "stdout",
     "output_type": "stream",
     "text": [
      "True\n",
      "False\n",
      "True\n"
     ]
    }
   ],
   "source": [
    "a = 1\n",
    "b = 2\n",
    "print((a>0) and (a<2))\n",
    "print(a>1 and b!=1)\n",
    "print(a==1 and b>0 and b <= 3)"
   ]
  },
  {
   "cell_type": "markdown",
   "metadata": {
    "slideshow": {
     "slide_type": "subslide"
    }
   },
   "source": [
    "# Control flow - conditionals\n",
    "\n",
    "Conditional statements are used to selectively execute code."
   ]
  },
  {
   "cell_type": "code",
   "execution_count": 24,
   "metadata": {
    "slideshow": {
     "slide_type": "-"
    }
   },
   "outputs": [
    {
     "name": "stdout",
     "output_type": "stream",
     "text": [
      "1 == 1\n",
      "2 != 1\n",
      "boeh\n"
     ]
    }
   ],
   "source": [
    "for a in [1,2,3]:\n",
    "    if a == 1:\n",
    "        print('{} == 1'.format(a))\n",
    "    elif a==3:\n",
    "        print('boeh')\n",
    "    else:\n",
    "        print('{} != 1'.format(a))"
   ]
  },
  {
   "cell_type": "markdown",
   "metadata": {
    "slideshow": {
     "slide_type": "-"
    }
   },
   "source": [
    "Iterate over a range from 0 to 10 and print per value whether it is greater than 4."
   ]
  },
  {
   "cell_type": "markdown",
   "metadata": {
    "slideshow": {
     "slide_type": "subslide"
    }
   },
   "source": [
    "# Control flow - conditionals\n",
    "\n",
    "Iterate over a range from 0 to 10 and print per value whether it is greater than 4."
   ]
  },
  {
   "cell_type": "code",
   "execution_count": 25,
   "metadata": {
    "slideshow": {
     "slide_type": "-"
    }
   },
   "outputs": [
    {
     "name": "stdout",
     "output_type": "stream",
     "text": [
      "5 > 4\n",
      "6 > 4\n",
      "7 > 4\n",
      "8 > 4\n",
      "9 > 4\n"
     ]
    }
   ],
   "source": [
    "for i in range(10):\n",
    "    if i > 4:\n",
    "        print('{} > 4'.format(i))"
   ]
  },
  {
   "cell_type": "markdown",
   "metadata": {
    "slideshow": {
     "slide_type": "subslide"
    }
   },
   "source": [
    "# Control flow - advanced\n",
    "\n",
    "* `break`: stop a loop\n",
    "* `continue`: skip a step"
   ]
  },
  {
   "cell_type": "code",
   "execution_count": 26,
   "metadata": {},
   "outputs": [
    {
     "name": "stdout",
     "output_type": "stream",
     "text": [
      "2\n",
      "3\n",
      "4\n",
      "5\n",
      "6\n"
     ]
    }
   ],
   "source": [
    "for i in range(10):\n",
    "    if i < 2:\n",
    "        continue\n",
    "    print(i)\n",
    "    if i > 5:\n",
    "        break"
   ]
  },
  {
   "cell_type": "markdown",
   "metadata": {
    "slideshow": {
     "slide_type": "subslide"
    }
   },
   "source": [
    "# Control flow - advanced\n",
    "\n",
    "Adapt this loop such that it stops whenever `x > .8` and only prints for `x < .5`"
   ]
  },
  {
   "cell_type": "code",
   "execution_count": 27,
   "metadata": {},
   "outputs": [
    {
     "name": "stdout",
     "output_type": "stream",
     "text": [
      "0.7080375983912455\n",
      "0.7952763710594132\n",
      "0.8365679627457286\n"
     ]
    }
   ],
   "source": [
    "import random\n",
    "for i in range(20):\n",
    "    x = random.random()\n",
    "    if x < .5:\n",
    "        continue\n",
    "    print(x)\n",
    "    if x > .8:\n",
    "        break"
   ]
  },
  {
   "cell_type": "markdown",
   "metadata": {
    "slideshow": {
     "slide_type": "slide"
    }
   },
   "source": [
    "# Functions\n",
    "\n",
    "* A function is code block that performs a specific task:\n",
    "\n",
    "```\n",
    "def func(arg1,arg2=0,arg3=1):\n",
    "    print('{} {} {}'.format(arg1,arg2,arg3))\n",
    "```\n",
    "\n",
    "* This function has 2 arguments:\n",
    "    * `arg1` is a mandatory argument\n",
    "    * `arg2` and `arg3` are optional and will be zero if not specifified\n",
    "* Copy the function and run the following calls; explain the output\n",
    "\n",
    "```\n",
    "func(1,2,3)\n",
    "func(1)\n",
    "func(1,2)\n",
    "func(1,3)\n",
    "func(1,arg2=2,arg3=3)\n",
    "func(1,arg3=3,arg2=2)\n",
    "func(1,arg2=2,3)\n",
    "```"
   ]
  },
  {
   "cell_type": "markdown",
   "metadata": {
    "slideshow": {
     "slide_type": "subslide"
    }
   },
   "source": [
    "# Functions\n",
    "\n",
    "```\n",
    "func(1,2,3)\n",
    "func(1)\n",
    "func(1,2)\n",
    "func(1,3)\n",
    "func(1,arg2=2,arg3=3)\n",
    "func(1,arg3=3,arg2=2)\n",
    "func(1,arg2=2,3)\n",
    "```"
   ]
  },
  {
   "cell_type": "code",
   "execution_count": 28,
   "metadata": {},
   "outputs": [
    {
     "name": "stdout",
     "output_type": "stream",
     "text": [
      "1 0 3\n"
     ]
    }
   ],
   "source": [
    "def func(arg1,arg2=0,arg3=1):\n",
    "    print(arg1,arg2,arg3,)\n",
    "    #print('{} {} {}'.format(arg1,arg2,arg3))\n",
    "    \n",
    "func(1,arg3=3)\n"
   ]
  },
  {
   "cell_type": "markdown",
   "metadata": {
    "slideshow": {
     "slide_type": "fragment"
    }
   },
   "source": [
    "* Mandatory arguments **must** be given in the correct order\n",
    "* Optional arguments may be given in order, or should be associated with their name:"
   ]
  },
  {
   "cell_type": "markdown",
   "metadata": {
    "slideshow": {
     "slide_type": "subslide"
    }
   },
   "source": [
    "# Functions\n",
    "\n",
    "The `return` statement is used to *return* results"
   ]
  },
  {
   "cell_type": "code",
   "execution_count": 29,
   "metadata": {},
   "outputs": [
    {
     "name": "stdout",
     "output_type": "stream",
     "text": [
      "1 2 3\n"
     ]
    }
   ],
   "source": [
    "def func(arg1,arg2=0,arg3=1):\n",
    "    s = '{} {} {}'.format(arg1,arg2,arg3)\n",
    "    return s\n",
    "\n",
    "a = func(1,2,3)\n",
    "print(a)"
   ]
  },
  {
   "cell_type": "markdown",
   "metadata": {
    "slideshow": {
     "slide_type": "subslide"
    }
   },
   "source": [
    "# Functions\n",
    "\n",
    "The `return` statement is used to *return* results"
   ]
  },
  {
   "cell_type": "code",
   "execution_count": 30,
   "metadata": {
    "slideshow": {
     "slide_type": "-"
    }
   },
   "outputs": [
    {
     "name": "stdout",
     "output_type": "stream",
     "text": [
      "6 1 2 3\n"
     ]
    }
   ],
   "source": [
    "def func(arg1,arg2=0,arg3=1):\n",
    "    total = arg1+arg2+arg3\n",
    "    s = '{} {} {}'.format(arg1,arg2,arg3)\n",
    "    return total,s\n",
    "\n",
    "total,s = func(1,2,3)\n",
    "print(total,s)"
   ]
  },
  {
   "cell_type": "markdown",
   "metadata": {
    "slideshow": {
     "slide_type": "subslide"
    }
   },
   "source": [
    "# Functions - exercise\n",
    "\n",
    "* Write a function that computes and returns en minimum, maximum, sum, and mean of a list\n",
    "    * Make use of the function `sum`, `min`, and `max` (and use the help function)\n",
    "    * Note that you cannot use `sum`, `min`, and `max` as variable names!"
   ]
  },
  {
   "cell_type": "code",
   "execution_count": 31,
   "metadata": {
    "slideshow": {
     "slide_type": "fragment"
    }
   },
   "outputs": [
    {
     "name": "stdout",
     "output_type": "stream",
     "text": [
      "(1, 3, 6, 2.0)\n"
     ]
    }
   ],
   "source": [
    "def get_stats(l):\n",
    "    lmin = min(l)\n",
    "    lmax = max(l)\n",
    "    lsum = sum(l)\n",
    "    lmean = lsum/len(l)\n",
    "    return lmin,lmax,lsum,lmean\n",
    "\n",
    "print(get_stats([1,2,3]))"
   ]
  },
  {
   "cell_type": "code",
   "execution_count": 32,
   "metadata": {
    "slideshow": {
     "slide_type": "fragment"
    }
   },
   "outputs": [
    {
     "name": "stdout",
     "output_type": "stream",
     "text": [
      "(1, 3, 6, 2.0)\n"
     ]
    }
   ],
   "source": [
    "def get_stats(l):\n",
    "    return min(l),max(l),sum(l),sum(l)/len(l)\n",
    "\n",
    "print(get_stats([1,2,3]))"
   ]
  },
  {
   "cell_type": "markdown",
   "metadata": {
    "slideshow": {
     "slide_type": "subslide"
    }
   },
   "source": [
    "# Functions - some theory\n",
    "\n",
    "1. Use functions when lines of code are repeated\n",
    "2. Use functions to organize programs:\n",
    "\n",
    "```\n",
    "def load_data(fn):\n",
    "    ...\n",
    "   \n",
    "def plot_data(data):\n",
    "    ...\n",
    "\n",
    "fn = 'file.txt'\n",
    "data = load_data(fn)\n",
    "plot_data(data)\n",
    "```"
   ]
  },
  {
   "cell_type": "markdown",
   "metadata": {
    "slideshow": {
     "slide_type": "subslide"
    }
   },
   "source": [
    "# Function scope - where do variables exist"
   ]
  },
  {
   "cell_type": "code",
   "execution_count": 54,
   "metadata": {},
   "outputs": [
    {
     "name": "stdout",
     "output_type": "stream",
     "text": [
      "3\n"
     ]
    },
    {
     "ename": "NameError",
     "evalue": "name 'result' is not defined",
     "output_type": "error",
     "traceback": [
      "\u001b[0;31m---------------------------------------------------------------------------\u001b[0m",
      "\u001b[0;31mNameError\u001b[0m                                 Traceback (most recent call last)",
      "\u001b[0;32m<ipython-input-54-2cf87f6fcc5b>\u001b[0m in \u001b[0;36m<module>\u001b[0;34m()\u001b[0m\n\u001b[1;32m      5\u001b[0m \u001b[0ms\u001b[0m \u001b[0;34m=\u001b[0m \u001b[0madd\u001b[0m\u001b[0;34m(\u001b[0m\u001b[0;36m1\u001b[0m\u001b[0;34m,\u001b[0m\u001b[0;36m2\u001b[0m\u001b[0;34m)\u001b[0m\u001b[0;34m\u001b[0m\u001b[0m\n\u001b[1;32m      6\u001b[0m \u001b[0mprint\u001b[0m\u001b[0;34m(\u001b[0m\u001b[0ms\u001b[0m\u001b[0;34m)\u001b[0m\u001b[0;34m\u001b[0m\u001b[0m\n\u001b[0;32m----> 7\u001b[0;31m \u001b[0mprint\u001b[0m\u001b[0;34m(\u001b[0m\u001b[0mresult\u001b[0m\u001b[0;34m)\u001b[0m\u001b[0;34m\u001b[0m\u001b[0m\n\u001b[0m",
      "\u001b[0;31mNameError\u001b[0m: name 'result' is not defined"
     ]
    }
   ],
   "source": [
    "def add(x,y):\n",
    "    result = x+y\n",
    "    return result\n",
    "\n",
    "s = add(1,2)\n",
    "print(s)\n",
    "print(result)"
   ]
  },
  {
   "cell_type": "markdown",
   "metadata": {
    "slideshow": {
     "slide_type": "slide"
    }
   },
   "source": [
    "# Libraries - where functions come from\n",
    "\n",
    "* Libraries add specific functionalities to Python\n",
    "* Standard libraries are included in every Python installation\n",
    "    * for example `random`, `math`, \n",
    "    * (https://docs.python.org/3/library/)[https://docs.python.org/3/library/]\n",
    "* External libraries add even more functionality\n",
    "    * data analysis: numpy, pandas\n",
    "    * mathematical functions: numpy and scipy\n",
    "    * plotting: matplotlib\n",
    "    * lots, lots, lots more\n",
    "* **Look for a library before you implement something yourself**"
   ]
  },
  {
   "cell_type": "markdown",
   "metadata": {
    "slideshow": {
     "slide_type": "subslide"
    }
   },
   "source": [
    "# Using libraries\n",
    "\n",
    "* Importing the full library:\n",
    "  * **good**: `import numpy as np`; and use as: `np.array`\n",
    "  * **bad**: `from numpy import *`; and use as: `array`\n",
    "  * **ugly**: `import numpy`; and use as: `numpy.array`\n"
   ]
  },
  {
   "cell_type": "code",
   "execution_count": 33,
   "metadata": {},
   "outputs": [
    {
     "name": "stdout",
     "output_type": "stream",
     "text": [
      "[1 2 3]\n"
     ]
    }
   ],
   "source": [
    "import numpy as np\n",
    "\n",
    "a = np.array([1,2,3])\n",
    "print(a)"
   ]
  },
  {
   "cell_type": "markdown",
   "metadata": {
    "slideshow": {
     "slide_type": "subslide"
    }
   },
   "source": [
    "# Using libraries\n",
    "\n",
    "* Import specific functionality\n",
    "  * `from library import module.submodule.function`"
   ]
  },
  {
   "cell_type": "code",
   "execution_count": 34,
   "metadata": {},
   "outputs": [
    {
     "name": "stdout",
     "output_type": "stream",
     "text": [
      "<scipy.stats._continuous_distns.norm_gen object at 0x7f1558d28e10>\n",
      "<scipy.stats._continuous_distns.norm_gen object at 0x7f1558d28e10>\n"
     ]
    }
   ],
   "source": [
    "from scipy import stats\n",
    "print(stats.norm)\n",
    "\n",
    "from scipy.stats import norm\n",
    "print(norm)"
   ]
  }
 ],
 "metadata": {
  "celltoolbar": "Slideshow",
  "kernelspec": {
   "display_name": "Python 3",
   "language": "python",
   "name": "python3"
  },
  "language_info": {
   "codemirror_mode": {
    "name": "ipython",
    "version": 3
   },
   "file_extension": ".py",
   "mimetype": "text/x-python",
   "name": "python",
   "nbconvert_exporter": "python",
   "pygments_lexer": "ipython3",
   "version": "3.6.6"
  },
  "livereveal": {
   "height": 900,
   "width": 1600
  },
  "toc": {
   "nav_menu": {},
   "number_sections": false,
   "sideBar": false,
   "skip_h1_title": false,
   "toc_cell": false,
   "toc_position": {},
   "toc_section_display": "block",
   "toc_window_display": false
  }
 },
 "nbformat": 4,
 "nbformat_minor": 2
}
