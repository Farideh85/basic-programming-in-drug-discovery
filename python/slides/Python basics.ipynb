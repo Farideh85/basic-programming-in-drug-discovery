{
 "cells": [
  {
   "cell_type": "code",
   "execution_count": null,
   "metadata": {
    "slideshow": {
     "slide_type": "skip"
    }
   },
   "outputs": [],
   "source": [
    "import future"
   ]
  },
  {
   "cell_type": "markdown",
   "metadata": {
    "slideshow": {
     "slide_type": "slide"
    }
   },
   "source": [
    "# Using jupyter\n",
    "\n",
    "* Two main cell types: code and markdown\n",
    "* Two modes: edit mode (cursor visible) and command mode\n",
    "* Enter command mode: select cell and press enter\n",
    "* Execute cell: `ctrl+enter`"
   ]
  },
  {
   "cell_type": "code",
   "execution_count": null,
   "metadata": {},
   "outputs": [],
   "source": [
    "import sys\n",
    "print(sys.version)"
   ]
  },
  {
   "cell_type": "markdown",
   "metadata": {
    "slideshow": {
     "slide_type": "subslide"
    }
   },
   "source": [
    "# Accessing help \n",
    "\n",
    "* `?print`\n",
    "* Type command and use `shift+tab` \n",
    "    * once: basic doc string\n",
    "    * twice: extended doc string\n",
    "    * lots: same as `?`"
   ]
  },
  {
   "cell_type": "code",
   "execution_count": null,
   "metadata": {},
   "outputs": [],
   "source": [
    "?print"
   ]
  },
  {
   "cell_type": "markdown",
   "metadata": {
    "slideshow": {
     "slide_type": "slide"
    }
   },
   "source": [
    "# Our very first program - terminology"
   ]
  },
  {
   "cell_type": "code",
   "execution_count": null,
   "metadata": {},
   "outputs": [],
   "source": [
    "x = 1+2\n",
    "print(x)"
   ]
  },
  {
   "cell_type": "markdown",
   "metadata": {},
   "source": [
    "* Each line is an *statement*\n",
    "* `+` and `=` are *operators*\n",
    "    * The *assignment* operator `=` assigns a *value* to a *variable* `x`\n",
    "* Function call: `print(x)`"
   ]
  },
  {
   "cell_type": "markdown",
   "metadata": {
    "slideshow": {
     "slide_type": "subslide"
    }
   },
   "source": [
    "# Understanding error messages\n",
    "\n",
    "* When something is wrong, Python will show the exact problem."
   ]
  },
  {
   "cell_type": "code",
   "execution_count": null,
   "metadata": {
    "slideshow": {
     "slide_type": "-"
    }
   },
   "outputs": [],
   "source": [
    "a = 2\n",
    "print('x'\n",
    "print()\n",
    "a = 1"
   ]
  },
  {
   "cell_type": "markdown",
   "metadata": {
    "slideshow": {
     "slide_type": "subslide"
    }
   },
   "source": [
    "# Variable names\n",
    "\n",
    "* first character **must** be a letter\n",
    "    * or a `_`, but this is reserved for specific usages\n",
    "* second character (if used) can be a letter, digit, or `_`\n",
    "* variable names are **case sensitive**"
   ]
  },
  {
   "cell_type": "code",
   "execution_count": null,
   "metadata": {},
   "outputs": [],
   "source": [
    "0a = 1\n",
    "print(a)"
   ]
  },
  {
   "cell_type": "markdown",
   "metadata": {
    "slideshow": {
     "slide_type": "slide"
    }
   },
   "source": [
    "# Python Syntax - printing and cell output\n",
    "\n",
    "Execute the following cells"
   ]
  },
  {
   "cell_type": "code",
   "execution_count": null,
   "metadata": {
    "slideshow": {
     "slide_type": "-"
    }
   },
   "outputs": [],
   "source": [
    "'hello world'"
   ]
  },
  {
   "cell_type": "code",
   "execution_count": null,
   "metadata": {
    "slideshow": {
     "slide_type": "-"
    }
   },
   "outputs": [],
   "source": [
    "'hello world'\n",
    "x = 1"
   ]
  },
  {
   "cell_type": "code",
   "execution_count": null,
   "metadata": {
    "slideshow": {
     "slide_type": "-"
    }
   },
   "outputs": [],
   "source": [
    "print('hello world')\n",
    "x = 1"
   ]
  },
  {
   "cell_type": "markdown",
   "metadata": {
    "slideshow": {
     "slide_type": "subslide"
    }
   },
   "source": [
    "# Python Syntax - data types\n",
    "\n",
    "Execute the following cells and explain the results"
   ]
  },
  {
   "cell_type": "code",
   "execution_count": null,
   "metadata": {
    "slideshow": {
     "slide_type": "-"
    }
   },
   "outputs": [],
   "source": [
    "x = 1; z = 2.; s = 'hello world'\n",
    "print(type(x))\n",
    "print(type(z))\n",
    "print(type(s))"
   ]
  },
  {
   "cell_type": "markdown",
   "metadata": {},
   "source": [
    "# Floats and integers\n",
    "\n",
    "* `a + b`, `a - b`, and `a * b`\n",
    "    * if a and b are of the same type, returns that type\n",
    "    * if a or b is a float, returns float\n",
    "* `a / b`: always a float!\n",
    "\n",
    "predict the output"
   ]
  },
  {
   "cell_type": "code",
   "execution_count": null,
   "metadata": {},
   "outputs": [],
   "source": [
    "x = 1; y = 2.5; z = 1b\n",
    "print(type(x+x))\n",
    "print(type(y/y))\n",
    "print(type(x/z))\n"
   ]
  },
  {
   "cell_type": "markdown",
   "metadata": {
    "slideshow": {
     "slide_type": "subslide"
    }
   },
   "source": [
    "# Python Syntax - strings\n",
    "\n",
    "Execute the following code and explain the result"
   ]
  },
  {
   "cell_type": "code",
   "execution_count": null,
   "metadata": {},
   "outputs": [],
   "source": [
    "x = 1; z = 2.; s = 'hello world'\n",
    "print(x+s)"
   ]
  },
  {
   "cell_type": "markdown",
   "metadata": {
    "slideshow": {
     "slide_type": "subslide"
    }
   },
   "source": [
    "# Python Syntax - creating strings\n",
    "\n",
    "* Generate filenames based on variables\n",
    "* Generate messages based on variables\n",
    "\n",
    "Strings are generating with the format function:"
   ]
  },
  {
   "cell_type": "code",
   "execution_count": null,
   "metadata": {
    "slideshow": {
     "slide_type": "-"
    }
   },
   "outputs": [],
   "source": [
    "a = 1\n",
    "print('{} = {}'.format('x',a))"
   ]
  },
  {
   "cell_type": "markdown",
   "metadata": {
    "slideshow": {
     "slide_type": "-"
    }
   },
   "source": [
    "Generate the following string using variables `x`, `y`, `z`, and `s`: \n",
    "\n",
    "```hello world: x = 1, y = 2, z = 2.```"
   ]
  },
  {
   "cell_type": "code",
   "execution_count": null,
   "metadata": {
    "slideshow": {
     "slide_type": "fragment"
    }
   },
   "outputs": [],
   "source": [
    "s = 'bla {}'\n",
    "print(s.format(1))\n",
    "print('{}: x = {}, y = {}, z = {}.'.format(s,x,y,z))"
   ]
  },
  {
   "cell_type": "markdown",
   "metadata": {
    "slideshow": {
     "slide_type": "subslide"
    }
   },
   "source": [
    "# Python Syntax - Lists\n",
    "\n",
    "* Creating a list: `l = [1,2,3,4,5]`\n",
    "* Access element `i`: `l[i]` or a range of elements: 'l[start:stop:step]`\n",
    "* List length: `len(l)`\n",
    "\n",
    "\n",
    "1. Generate the list `l` \n",
    "2. Print the first and last element\n",
    "3. Print every second element"
   ]
  },
  {
   "cell_type": "code",
   "execution_count": null,
   "metadata": {
    "slideshow": {
     "slide_type": "fragment"
    }
   },
   "outputs": [],
   "source": [
    "l = [1,2,3,4,5]\n",
    "print('the first element of l is {}'.format(l[0]))\n",
    "print('the last element of l is {}'.format(l[-2]))\n",
    "print(l[0:len(l):2]) "
   ]
  },
  {
   "cell_type": "markdown",
   "metadata": {},
   "source": [
    "* Dictionaries\n",
    "* tuples?"
   ]
  },
  {
   "cell_type": "markdown",
   "metadata": {
    "slideshow": {
     "slide_type": "slide"
    }
   },
   "source": [
    "# Control flow - loops\n",
    "\n",
    "Simple loop over a list"
   ]
  },
  {
   "cell_type": "code",
   "execution_count": null,
   "metadata": {},
   "outputs": [],
   "source": [
    "for i in [1,2,3]:\n",
    "    print(i)"
   ]
  },
  {
   "cell_type": "markdown",
   "metadata": {},
   "source": [
    "* Note that in Python **WHITE SPACE MATTERS**\n",
    "* Run the following"
   ]
  },
  {
   "cell_type": "code",
   "execution_count": null,
   "metadata": {
    "slideshow": {
     "slide_type": "-"
    }
   },
   "outputs": [],
   "source": [
    "for i in [1,2,3]:\n",
    "    print(i)\n",
    "    print(i*2)"
   ]
  },
  {
   "cell_type": "markdown",
   "metadata": {
    "slideshow": {
     "slide_type": "subslide"
    }
   },
   "source": [
    "# Control flow - loops\n",
    "\n",
    "Loop from start to stop:"
   ]
  },
  {
   "cell_type": "code",
   "execution_count": null,
   "metadata": {},
   "outputs": [],
   "source": [
    "for i in range(0,3,1):\n",
    "    print(i)"
   ]
  },
  {
   "cell_type": "markdown",
   "metadata": {},
   "source": [
    "Create a list `l`, loop over that list using the `range` function and print the index and value of each item in a nicely formatted string (using `format`)."
   ]
  },
  {
   "cell_type": "code",
   "execution_count": null,
   "metadata": {
    "slideshow": {
     "slide_type": "fragment"
    }
   },
   "outputs": [],
   "source": [
    "l = [10,20,30]\n",
    "for i in range(len(l)):\n",
    "    print('index = {} - value = {}'.format(i,l[i]))"
   ]
  },
  {
   "cell_type": "markdown",
   "metadata": {
    "slideshow": {
     "slide_type": "subslide"
    }
   },
   "source": [
    "# Control flow - conditionals\n",
    "\n",
    "* Comparison operators - `==`, `!=`, `>`, `>=`, `<`, and `<=` - test a condition and return a *boolean* value.\n",
    "* Create three variables: `a = 1`, `b = 2`, `c = 1`; and use them to explore the boolean operators."
   ]
  },
  {
   "cell_type": "code",
   "execution_count": null,
   "metadata": {
    "slideshow": {
     "slide_type": "fragment"
    }
   },
   "outputs": [],
   "source": [
    "a = 1\n",
    "b = 2\n",
    "c = 1\n",
    "x = false\n",
    "print(a==b,a!=b,a>b,a>=b,a<b,a<=b)\n",
    "print(a==c,a!=c,a>c,a>=c,a<c,a<=c)"
   ]
  },
  {
   "cell_type": "markdown",
   "metadata": {
    "slideshow": {
     "slide_type": "subslide"
    }
   },
   "source": [
    "# Control flow - conditionals\n",
    "\n",
    "* `not a` inverses the state of `a`\n",
    "* `a==1 and b==1`: returns `True` when a is 1 *and* b is 1\n",
    "* `a==1 or b==1`: returns `True` when a is 1 *and/or* b is 1\n",
    "\n",
    "Implement tests for:\n",
    "* $0 < a < 2$\n",
    "* $a > 1$ and $b \\neq 1$\n",
    "* $a = 1$ and $0 < b \\leq 3$\n"
   ]
  },
  {
   "cell_type": "code",
   "execution_count": null,
   "metadata": {
    "slideshow": {
     "slide_type": "fragment"
    }
   },
   "outputs": [],
   "source": [
    "a = 1\n",
    "b = 2\n",
    "print((a>0) and (a<2))\n",
    "print(a>1 and b!=1)\n",
    "print(a==1 and b>0 and b <= 3)"
   ]
  },
  {
   "cell_type": "markdown",
   "metadata": {
    "slideshow": {
     "slide_type": "subslide"
    }
   },
   "source": [
    "# Control flow - conditionals\n",
    "\n",
    "Conditional statements are used to selectively execute code."
   ]
  },
  {
   "cell_type": "code",
   "execution_count": null,
   "metadata": {
    "slideshow": {
     "slide_type": "-"
    }
   },
   "outputs": [],
   "source": [
    "for a in [1,2,3]:\n",
    "    if a == 1:\n",
    "        print('{} == 1'.format(a))\n",
    "    elif a==3:\n",
    "        print('boeh')\n",
    "    else:\n",
    "        print('{} != 1'.format(a))"
   ]
  },
  {
   "cell_type": "markdown",
   "metadata": {
    "slideshow": {
     "slide_type": "-"
    }
   },
   "source": [
    "Iterate over a range from 0 to 10 and print per value whether it is greater than 4."
   ]
  },
  {
   "cell_type": "markdown",
   "metadata": {
    "slideshow": {
     "slide_type": "subslide"
    }
   },
   "source": [
    "# Control flow - conditionals"
   ]
  },
  {
   "cell_type": "code",
   "execution_count": null,
   "metadata": {
    "slideshow": {
     "slide_type": "-"
    }
   },
   "outputs": [],
   "source": [
    "for i in range(10):\n",
    "    if i > 4:\n",
    "        print('{} > 4'.format(i))"
   ]
  },
  {
   "cell_type": "markdown",
   "metadata": {},
   "source": [
    "# Control flow - advanced\n",
    "\n",
    "* `break`: stop a loop\n",
    "* `continue`: skip a step"
   ]
  },
  {
   "cell_type": "code",
   "execution_count": null,
   "metadata": {},
   "outputs": [],
   "source": [
    "for i in range(10):\n",
    "    if i < 2:\n",
    "        continue\n",
    "    print(i)\n",
    "    if i > 5:\n",
    "        break"
   ]
  },
  {
   "cell_type": "markdown",
   "metadata": {},
   "source": [
    "# Control flow - advanced\n",
    "\n",
    "Adapt this loop such that it stops whenever `x > .8` and only prints for `x < .5`"
   ]
  },
  {
   "cell_type": "code",
   "execution_count": null,
   "metadata": {},
   "outputs": [],
   "source": [
    "import random\n",
    "for i in range(20):\n",
    "    x = random.random()\n",
    "    if x < .5:\n",
    "        continue\n",
    "    print(x)\n",
    "    if x > .8:\n",
    "        break"
   ]
  },
  {
   "cell_type": "markdown",
   "metadata": {
    "slideshow": {
     "slide_type": "slide"
    }
   },
   "source": [
    "# Functions\n",
    "\n",
    "* A function is code block that performs a specific task:\n",
    "\n",
    "```\n",
    "def func(arg1,arg2=0,arg3=1):\n",
    "    print('{} {} {}'.format(arg1,arg2,arg3))\n",
    "```\n",
    "\n",
    "* This function has 2 arguments:\n",
    "    * `arg1` is a mandatory argument\n",
    "    * `arg2` and `arg3` are optional and will be zero if not specifified\n",
    "* Copy the function and run the following calls; explain the output\n",
    "\n",
    "```\n",
    "func(1,2,3)\n",
    "func(1)\n",
    "func(1,2)\n",
    "func(1,3)\n",
    "func(1,arg2=2,arg3=3)\n",
    "func(1,arg3=3,arg2=2)\n",
    "func(1,arg2=2,3)\n",
    "```"
   ]
  },
  {
   "cell_type": "markdown",
   "metadata": {
    "slideshow": {
     "slide_type": "subslide"
    }
   },
   "source": [
    "# Functions\n",
    "\n",
    "```\n",
    "func(1,2,3)\n",
    "func(1)\n",
    "func(1,2)\n",
    "func(1,3)\n",
    "func(1,arg2=2,arg3=3)\n",
    "func(1,arg3=3,arg2=2)\n",
    "func(1,arg2=2,3)\n",
    "```"
   ]
  },
  {
   "cell_type": "code",
   "execution_count": null,
   "metadata": {},
   "outputs": [],
   "source": [
    "def func(arg1,arg2=0,arg3=1):\n",
    "    print(arg1,arg2,arg3,)\n",
    "    #print('{} {} {}'.format(arg1,arg2,arg3))\n",
    "    \n",
    "func(1,arg3=3)\n"
   ]
  },
  {
   "cell_type": "markdown",
   "metadata": {
    "slideshow": {
     "slide_type": "fragment"
    }
   },
   "source": [
    "* Mandatory arguments **must** be given in the correct order\n",
    "* Optional arguments may be given in order, or should be associated with their name:"
   ]
  },
  {
   "cell_type": "markdown",
   "metadata": {
    "slideshow": {
     "slide_type": "subslide"
    }
   },
   "source": [
    "# Functions\n",
    "\n",
    "The `return` statement is used to *return* results"
   ]
  },
  {
   "cell_type": "code",
   "execution_count": null,
   "metadata": {},
   "outputs": [],
   "source": [
    "def func(arg1,arg2=0,arg3=1):\n",
    "    s = '{} {} {}'.format(arg1,arg2,arg3)\n",
    "    return s\n",
    "\n",
    "a = func(1,2,3)\n",
    "print(a)"
   ]
  },
  {
   "cell_type": "markdown",
   "metadata": {
    "slideshow": {
     "slide_type": "subslide"
    }
   },
   "source": [
    "# Functions\n",
    "\n",
    "The `return` statement is used to *return* results"
   ]
  },
  {
   "cell_type": "code",
   "execution_count": null,
   "metadata": {
    "slideshow": {
     "slide_type": "-"
    }
   },
   "outputs": [],
   "source": [
    "def func(arg1,arg2=0,arg3=1):\n",
    "    total = arg1+arg2+arg3\n",
    "    s = '{} {} {}'.format(arg1,arg2,arg3)\n",
    "    return total,s\n",
    "\n",
    "total,s = func(1,2,3)\n",
    "#print(a)\n",
    "print(total,s)"
   ]
  },
  {
   "cell_type": "markdown",
   "metadata": {
    "slideshow": {
     "slide_type": "subslide"
    }
   },
   "source": [
    "# Functions - exercise\n",
    "\n",
    "* Write a function that computes and returns en minimum, maximum, sum, and mean of a list\n",
    "    * Make use of the function `sum`, `min`, and `max` (and use the help function)\n",
    "    * Note that you cannot use `sum`, `min`, and `max` as variable names!"
   ]
  },
  {
   "cell_type": "code",
   "execution_count": null,
   "metadata": {
    "slideshow": {
     "slide_type": "fragment"
    }
   },
   "outputs": [],
   "source": [
    "def get_stats(l):\n",
    "    lmin = min(l)\n",
    "    lmax = max(l)\n",
    "    lsum = sum(l)\n",
    "    lmean = lsum/len(l)\n",
    "    return lmin,lmax,lsum,lmean\n",
    "\n",
    "print(get_stats([1,2,3]))"
   ]
  },
  {
   "cell_type": "code",
   "execution_count": null,
   "metadata": {
    "slideshow": {
     "slide_type": "fragment"
    }
   },
   "outputs": [],
   "source": [
    "def get_stats(l):\n",
    "    return min(l),max(l),sum(l),sum(l)/len(l)\n",
    "\n",
    "print(get_stats([1,2,3]))"
   ]
  },
  {
   "cell_type": "markdown",
   "metadata": {
    "slideshow": {
     "slide_type": "subslide"
    }
   },
   "source": [
    "# Functions - some theory\n",
    "\n",
    "1. Use functions when lines of code are repeated\n",
    "2. Use functions to organize programs:\n",
    "\n",
    "```\n",
    "def load_data(fn):\n",
    "    ...\n",
    "   \n",
    "def plot_data(data):\n",
    "    ...\n",
    "\n",
    "fn = 'file.txt'\n",
    "data = load_data(fn)\n",
    "plot_data(data)\n",
    "```"
   ]
  }
 ],
 "metadata": {
  "celltoolbar": "Slideshow",
  "kernelspec": {
   "display_name": "Python 3",
   "language": "python",
   "name": "python3"
  },
  "language_info": {
   "codemirror_mode": {
    "name": "ipython",
    "version": 3
   },
   "file_extension": ".py",
   "mimetype": "text/x-python",
   "name": "python",
   "nbconvert_exporter": "python",
   "pygments_lexer": "ipython3",
   "version": "3.6.6"
  },
  "livereveal": {
   "height": 900,
   "width": 1600
  },
  "toc": {
   "nav_menu": {},
   "number_sections": false,
   "sideBar": false,
   "skip_h1_title": false,
   "toc_cell": false,
   "toc_position": {},
   "toc_section_display": "block",
   "toc_window_display": false
  }
 },
 "nbformat": 4,
 "nbformat_minor": 2
}
