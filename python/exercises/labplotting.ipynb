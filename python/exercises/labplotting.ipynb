{
 "cells": [
  {
   "cell_type": "markdown",
   "metadata": {},
   "source": [
    "# Plotting Data in Python using Matplotlib"
   ]
  },
  {
   "cell_type": "markdown",
   "metadata": {},
   "source": [
    "In this exercise, we will be plotting experimental data in Python using 'matplotlib'. (Explain what the purpose is of this exercise, why you will want this as an alternative to excel plots, and what some of the advantages are of using this method.)"
   ]
  },
  {
   "cell_type": "markdown",
   "metadata": {},
   "source": [
    "First we need to import some libraries to setup the script"
   ]
  },
  {
   "cell_type": "code",
   "execution_count": 1,
   "metadata": {},
   "outputs": [
    {
     "name": "stdout",
     "output_type": "stream",
     "text": [
      "Populating the interactive namespace from numpy and matplotlib\n"
     ]
    }
   ],
   "source": [
    "%pylab inline\n",
    "import csv\n",
    "import matplotlib.pyplot as plt\n",
    "import numpy as np"
   ]
  },
  {
   "cell_type": "markdown",
   "metadata": {},
   "source": [
    "Next we have to import our data into the notebook. Our data is in a Comma Separated Values (.csv) file, we import the values into lists to use in our script. Next the values are loaded into a list. And to test that it worked, we print the list out to see the results."
   ]
  },
  {
   "cell_type": "code",
   "execution_count": 2,
   "metadata": {},
   "outputs": [
    {
     "name": "stdout",
     "output_type": "stream",
     "text": [
      "[['compound1', ' 10', ' 14'], ['compound2', ' 20', ' 570'], ['compound3', ' 30', ' 1302'], ['compound4', ' 40', ' 2838'], ['compound5', ' 50', ' 4212'], ['compound6', ' 60', ' 4590']]\n"
     ]
    }
   ],
   "source": [
    "with open('datafiles/labresults.csv', 'r') as file:\n",
    "    reader = csv.reader(file)\n",
    "    header_line = next(reader) #store the header into a separate file\n",
    "    results_list = list(reader)\n",
    "    print(results_list)"
   ]
  },
  {
   "cell_type": "markdown",
   "metadata": {},
   "source": [
    "We now have a list of tuples that contain the values for each measurement. There are three entries (or columns) in each tuple, and we want to create a graph based on this data. First define the x and the y axis. We can load this in the x and y from 'Results_list', but we do need to do some looping for that"
   ]
  },
  {
   "cell_type": "code",
   "execution_count": 3,
   "metadata": {},
   "outputs": [
    {
     "name": "stdout",
     "output_type": "stream",
     "text": [
      "[' 10', ' 20', ' 30', ' 40', ' 50', ' 60']\n",
      "[' 14', ' 570', ' 1302', ' 2838', ' 4212', ' 4590']\n"
     ]
    }
   ],
   "source": [
    "x_results = []\n",
    "y_results = []\n",
    "for entries in results_list:\n",
    "    x_results.append(entries[1])\n",
    "    y_results.append(entries[2])\n",
    "\n",
    "print(x_results)\n",
    "print(y_results)"
   ]
  },
  {
   "cell_type": "markdown",
   "metadata": {},
   "source": [
    "Now that we have the x and y points that need to be plotted, we can create the figure, create the axes and finally label them."
   ]
  },
  {
   "cell_type": "code",
   "execution_count": 4,
   "metadata": {},
   "outputs": [
    {
     "data": {
      "text/plain": [
       "[Text(0,0.5,'Counts'),\n",
       " Text(0.5,0,'Concentration'),\n",
       " Text(0.5,1,'Labresults plot')]"
      ]
     },
     "execution_count": 4,
     "metadata": {},
     "output_type": "execute_result"
    },
    {
     "data": {
      "image/png": "[encoded data removed]",
      "text/plain": [
       "<Figure size 432x288 with 1 Axes>"
      ]
     },
     "metadata": {},
     "output_type": "display_data"
    }
   ],
   "source": [
    "fig = plt.figure(figsize=(6,4))\n",
    "ax = plt.gca()\n",
    "ax.set_ylim(bottom=0, top=5000, auto=True)\n",
    "ax.plot(x_results,y_results,'-sr') \n",
    "ax.set(title='Labresults plot',xlabel='Concentration',ylabel='Counts')"
   ]
  },
  {
   "cell_type": "markdown",
   "metadata": {},
   "source": [
    "We now succesfully created a plot from our labdata. Fortunately, we have more data to plot. In the datafiles there is another sheet called 'Cellscreens.csv' and with this data we want to construct some plots. This sheet contains data on an experiment done on painkillers. First is the [Compound_name], then an abbrevation of a cancer type in the [Disease] column, a [Pain_rating] as a response to the painkiller where lower is better and finally the [Concentration] given of the compound.\n",
    "Start by loading the data from the file to the notebook. (TIP: Separating the lines into two parts, splitting on the disease might help here)"
   ]
  },
  {
   "cell_type": "code",
   "execution_count": 5,
   "metadata": {},
   "outputs": [
    {
     "name": "stdout",
     "output_type": "stream",
     "text": [
      "[['Morphine', ' BRCA', ' 5', ' 10'], ['Morphine', ' BRCA', ' 5', ' 15'], ['Morphine', ' BRCA', ' 4', ' 20'], ['Morphine', ' BRCA', ' 4', ' 25'], ['Morphine', ' BRCA', ' 4', ' 30'], ['Morphine', ' BRCA', ' 3', ' 35'], ['Codeine', ' BRCA', ' 5', ' 10'], ['Codeine', ' BRCA', ' 5', ' 15'], ['Codeine', ' BRCA', ' 5', ' 20'], ['Codeine', ' BRCA', ' 5', ' 25'], ['Codeine', ' BRCA', ' 5', ' 30'], ['Codeine', ' BRCA', ' 5', ' 35'], ['Fentanyl', ' BRCA', ' 3', ' 10'], ['Fentanyl', ' BRCA', ' 2', ' 15'], ['Fentanyl', ' BRCA', ' 2', ' 20'], ['Fentanyl', ' BRCA', ' 2', ' 25'], ['Fentanyl', ' BRCA', ' 1', ' 30'], ['Fentanyl', ' BRCA', ' 1', ' 35'], ['Tramadol', ' BRCA', ' 8', ' 10'], ['Tramadol', ' BRCA', ' 8', ' 15'], ['Tramadol', ' BRCA', ' 8', ' 20'], ['Tramadol', ' BRCA', ' 8', ' 25'], ['Tramadol', ' BRCA', ' 8', ' 30'], ['Tramadol', ' BRCA', ' 8', ' 35'], ['Oxycodone', ' BRCA', ' 7', ' 10'], ['Oxycodone', ' BRCA', ' 7', ' 15'], ['Oxycodone', ' BRCA', ' 7', ' 20'], ['Oxycodone', ' BRCA', ' 6', ' 25'], ['Oxycodone', ' BRCA', ' 6', ' 30'], ['Oxycodone', ' BRCA', ' 6', ' 35'], ['Meperidine', ' BRCA', ' 10', ' 10'], ['Meperidine', ' BRCA', ' 9', ' 15'], ['Meperidine', ' BRCA', ' 8', ' 20'], ['Meperidine', ' BRCA', ' 7', ' 25'], ['Meperidine', ' BRCA', ' 6', ' 30'], ['Meperidine', ' BRCA', ' 5', ' 35']]\n",
      "[['Morphine', ' GBM', ' 7', ' 10'], ['Morphine', ' GBM', ' 6', ' 15'], ['Morphine', ' GBM', ' 6', ' 20'], ['Morphine', ' GBM', ' 5', ' 25'], ['Morphine', ' GBM', ' 5', ' 30'], ['Morphine', ' GBM', ' 4', ' 35'], ['Codeine', ' GBM', ' 2', ' 10'], ['Codeine', ' GBM', ' 2', ' 15'], ['Codeine', ' GBM', ' 2', ' 20'], ['Codeine', ' GBM', ' 1', ' 25'], ['Codeine', ' GBM', ' 1', ' 30'], ['Codeine', ' GBM', ' 1', ' 35'], ['Fentanyl', ' GBM', ' 1', ' 10'], ['Fentanyl', ' GBM', ' 1', ' 15'], ['Fentanyl', ' GBM', ' 1', ' 20'], ['Fentanyl', ' GBM', ' 1', ' 25'], ['Fentanyl', ' GBM', ' 1', ' 30'], ['Fentanyl', ' GBM', ' 1', ' 35'], ['Tramadol', ' GBM', ' 7', ' 10'], ['Tramadol', ' GBM', ' 7', ' 15'], ['Tramadol', ' GBM', ' 7', ' 20'], ['Tramadol', ' GBM', ' 7', ' 25'], ['Tramadol', ' GBM', ' 7', ' 30'], ['Tramadol', ' GBM', ' 7', ' 35'], ['Oxycodone', ' GBM', ' 9', ' 10'], ['Oxycodone', ' GBM', ' 9', ' 15'], ['Oxycodone', ' GBM', ' 9', ' 20'], ['Oxycodone', ' GBM', ' 8', ' 25'], ['Oxycodone', ' GBM', ' 8', ' 30'], ['Oxycodone', ' GBM', ' 7', ' 35'], ['Meperidine', ' GBM', ' 6', ' 10'], ['Meperidine', ' GBM', ' 6', ' 15'], ['Meperidine', ' GBM', ' 5', ' 20'], ['Meperidine', ' GBM', ' 5', ' 25'], ['Meperidine', ' GBM', ' 4', ' 30'], ['Meperidine', ' GBM', ' 4', ' 35']]\n"
     ]
    }
   ],
   "source": [
    "with open('datafiles/Cellscreens.csv', 'r') as f:\n",
    "    reader = csv.reader(f)\n",
    "    header = next(reader) #store the header into a separate file\n",
    "    cell_list = list(reader)\n",
    "    cell_BRCA_list = cell_list[:36]\n",
    "    cell_GBM_list = cell_list[36:]\n",
    "    print(cell_BRCA_list)\n",
    "    print(cell_GBM_list)"
   ]
  },
  {
   "cell_type": "markdown",
   "metadata": {},
   "source": [
    "For our first plot, compare the pain ratings vs the concentration for Morphine. Do this by creating a solid line with square markers for both BRCA and GBM. Label the plot and lines accordingly."
   ]
  },
  {
   "cell_type": "code",
   "execution_count": 6,
   "metadata": {},
   "outputs": [
    {
     "data": {
      "text/plain": [
       "[Text(0,0.5,'Pain Rating'),\n",
       " Text(0.5,0,'Concentration'),\n",
       " Text(0.5,1,'Morphine effect on pain rating')]"
      ]
     },
     "execution_count": 6,
     "metadata": {},
     "output_type": "execute_result"
    },
    {
     "data": {
      "image/png": "[encoded data removed]",
      "text/plain": [
       "<Figure size 432x288 with 1 Axes>"
      ]
     },
     "metadata": {},
     "output_type": "display_data"
    }
   ],
   "source": [
    "conc = []\n",
    "morphine_pr_brca = []\n",
    "morphine_pr_gbm = []\n",
    "for morphine in cell_BRCA_list[:6]:\n",
    "    conc.append(morphine[3])\n",
    "    morphine_pr_brca.append(morphine[2])\n",
    "for morphine in cell_GBM_list[:6]:\n",
    "    morphine_pr_gbm.append(morphine[2])\n",
    "ax = plt.gca()\n",
    "ax.plot(conc, morphine_pr_brca,'s-', label='BRCA')\n",
    "ax.plot(conc, morphine_pr_gbm,'s-', label='GBM')\n",
    "ax.legend()\n",
    "ax.set(title='Morphine effect on pain rating',xlabel='Concentration',ylabel='Pain Rating')"
   ]
  },
  {
   "cell_type": "code",
   "execution_count": null,
   "metadata": {},
   "outputs": [],
   "source": []
  }
 ],
 "metadata": {
  "kernelspec": {
   "display_name": "Python 3",
   "language": "python",
   "name": "python3"
  },
  "language_info": {
   "codemirror_mode": {
    "name": "ipython",
    "version": 3
   },
   "file_extension": ".py",
   "mimetype": "text/x-python",
   "name": "python",
   "nbconvert_exporter": "python",
   "pygments_lexer": "ipython3",
   "version": "3.6.2"
  }
 },
 "nbformat": 4,
 "nbformat_minor": 1
}
