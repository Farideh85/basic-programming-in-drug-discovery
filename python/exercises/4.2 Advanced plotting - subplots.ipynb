{
 "cells": [
  {
   "cell_type": "code",
   "execution_count": 1,
   "metadata": {},
   "outputs": [],
   "source": [
    "%matplotlib inline\n",
    "%config InlineBackend.figure_format = 'retina'\n",
    "import numpy as np\n",
    "import seaborn as sns\n",
    "import matplotlib.pyplot as plt\n",
    "import pandas as pd\n",
    "sns.set_context(\"notebook\",font_scale=1.2)"
   ]
  },
  {
   "cell_type": "markdown",
   "metadata": {},
   "source": [
    "Scientific figures often contain multiple plots to make a point. Also while doing data analysis it makes sense to combine multiple plots into one figure. In matplotlib, this is acchieved with *subplots*. "
   ]
  },
  {
   "cell_type": "markdown",
   "metadata": {},
   "source": [
    "# Basic subplot syntax"
   ]
  },
  {
   "cell_type": "markdown",
   "metadata": {},
   "source": [
    "Subplots are generated with the command `plt.subplots(nrow,ncol)` command, which returns a `figure` and a list of axes:"
   ]
  },
  {
   "cell_type": "code",
   "execution_count": 2,
   "metadata": {},
   "outputs": [
    {
     "data": {
      "image/png": "[encoded data removed]",
      "text/plain": [
       "<Figure size 432x288 with 16 Axes>"
      ]
     },
     "metadata": {
      "image/png": {
       "height": 259,
       "width": 371
      },
      "needs_background": "light"
     },
     "output_type": "display_data"
    }
   ],
   "source": [
    "fig, axes = plt.subplots(4,4)"
   ]
  },
  {
   "cell_type": "markdown",
   "metadata": {},
   "source": [
    "You may notice that this doesn't look nice; the plots are tiny and the ticks overlap. To fix the overlap, we call the command `plt.tight_layout()`:"
   ]
  },
  {
   "cell_type": "code",
   "execution_count": 3,
   "metadata": {},
   "outputs": [
    {
     "data": {
      "image/png": "[encoded data removed]",
      "text/plain": [
       "<Figure size 432x288 with 16 Axes>"
      ]
     },
     "metadata": {
      "image/png": {
       "height": 278,
       "width": 422
      },
      "needs_background": "light"
     },
     "output_type": "display_data"
    }
   ],
   "source": [
    "fig, axes = plt.subplots(4,4)\n",
    "plt.tight_layout()"
   ]
  },
  {
   "cell_type": "markdown",
   "metadata": {},
   "source": [
    "This command adds some whitespace, but it makes the plots even smaller. This happens because the size of the figure is fixed, so the only way to add whitespace is to make the plots smaller. \n",
    "\n",
    "As with `plt.figure`, `plt.subplots` has the option `figsize` to set the figure size. Use the `figsize` option to increase the figure size such that the plots have a decent size."
   ]
  },
  {
   "cell_type": "code",
   "execution_count": 4,
   "metadata": {},
   "outputs": [],
   "source": [
    "# change size of the plots"
   ]
  },
  {
   "cell_type": "markdown",
   "metadata": {},
   "source": [
    "You may have data that has similar x- or y-axes. Look in the documentation of `plt.subplots` to find out how to share x- and/or y-axes:"
   ]
  },
  {
   "cell_type": "code",
   "execution_count": 5,
   "metadata": {},
   "outputs": [],
   "source": [
    "# share x and/or y-axes"
   ]
  },
  {
   "cell_type": "markdown",
   "metadata": {},
   "source": [
    "# Populating subplots"
   ]
  },
  {
   "cell_type": "markdown",
   "metadata": {},
   "source": [
    "When you create a figure with subplots you have a figure object and one axis object for each subplot. These axis objects are similar to the ones we created with `ax = plt.gca()`. Hence, to populate a subplot we need to get the axis object for the subplot we want to populate. Running `fig,axes = plt.subplots(nrow,ncol)` you get a figure and:\n",
    "* a 2D array with axes if `nrow > 1` and `ncol > 1`;\n",
    "* a 1D array otherwise if `nrow > 1` or `ncol > `;\n",
    "* an axes object if `nrow = ncol = 1`.\n",
    "\n",
    "So, the first subplot is:\n",
    "* `axes[0,0]` if `nrow > 1` and `ncol > 1`;\n",
    "* `axes[0]` if `nrow > 1` or `ncol > `;\n",
    "* `axes` if `nrow = ncol = 1`.\n",
    "\n",
    "Create a 2x2 subplot and give each subplot a title that describes its position, e.g. top left."
   ]
  },
  {
   "cell_type": "code",
   "execution_count": 6,
   "metadata": {},
   "outputs": [],
   "source": [
    "# create subplots with titles"
   ]
  },
  {
   "cell_type": "markdown",
   "metadata": {},
   "source": [
    "Now, create a 2x2 subplot and fill it with the following plots:\n",
    "* top left: $y = e^x$ (already done)\n",
    "* top right: $y = x^2$\n",
    "* bottom left: $y = 2x$ with errorbars of $y_\\text{err} = .2x$\n",
    "* bottom right: $y = \\sin(x)$ as a bar chart\n",
    "\n",
    "Add labels and titles to each plot."
   ]
  },
  {
   "cell_type": "code",
   "execution_count": 7,
   "metadata": {},
   "outputs": [],
   "source": [
    "# fill plots"
   ]
  },
  {
   "cell_type": "markdown",
   "metadata": {},
   "source": [
    "Repeat the previous exercise, but now with for plots in a row (or a column, whatever you like)."
   ]
  },
  {
   "cell_type": "code",
   "execution_count": 8,
   "metadata": {},
   "outputs": [],
   "source": [
    "# make subplot row (or column)"
   ]
  },
  {
   "cell_type": "markdown",
   "metadata": {},
   "source": [
    "# Advanced subplots"
   ]
  },
  {
   "cell_type": "markdown",
   "metadata": {},
   "source": [
    "In the previous exercise we populated the subplots *by hand*. This is required quite some lines of code, which means that it is a lot of work and there is a lot of space for mistakes. It is however possible to automate a large part of filling in the subplots, especially when you are plotting data that is neatly organized in, for example, a pandas DataFrame. And that is what we will do in this exercise. \n",
    "\n",
    "Some general hints for this exercise:\n",
    "* for loop\n",
    "```\n",
    "for item in ['a','b']:\n",
    "    print(item)\n",
    "```\n",
    "* foor loop with index and item:\n",
    "```\n",
    "for i,item in enumerate(['a','b']):\n",
    "    print(i,item)\n",
    "```\n",
    "* creating strings: `'{} {}'.format(part1,part2)`\n",
    "* unique items in a pandas column: `df[col].unique()`\n",
    "* selecting rows from a DataFrame: `sdf = df[(df['colA']==x)&(df['colB']==y)]`\n",
    "\n",
    "Before we start, we load a suitable dataset; the *fmri* dataset. This set contains time course data from multiple subjects measured in different regions and for different events. Before continuing to the next step, have a look at the dataset."
   ]
  },
  {
   "cell_type": "code",
   "execution_count": 9,
   "metadata": {},
   "outputs": [
    {
     "data": {
      "text/plain": [
       "Index(['subject', 'timepoint', 'event', 'region', 'signal'], dtype='object')"
      ]
     },
     "metadata": {},
     "output_type": "display_data"
    }
   ],
   "source": [
    "df = sns.load_dataset(\"fmri\")\n",
    "display(df.columns)"
   ]
  },
  {
   "cell_type": "markdown",
   "metadata": {},
   "source": [
    "## Set up single plot"
   ]
  },
  {
   "cell_type": "markdown",
   "metadata": {},
   "source": [
    "### Plot mean"
   ]
  },
  {
   "cell_type": "markdown",
   "metadata": {},
   "source": [
    "Before we start with creating multiple plots, we create the plot for a single condition. Select the rows from `df` for which the event is `stim` and the region is `frontal` and store this in a variable:"
   ]
  },
  {
   "cell_type": "code",
   "execution_count": 10,
   "metadata": {},
   "outputs": [],
   "source": [
    "# sdf = df[...]"
   ]
  },
  {
   "cell_type": "markdown",
   "metadata": {},
   "source": [
    "Use `groupby` to compute the mean and standard deviation of the signal in the `frontal` region for the event `stim` and store the results as variables."
   ]
  },
  {
   "cell_type": "code",
   "execution_count": 11,
   "metadata": {},
   "outputs": [],
   "source": [
    "# mu = \n",
    "# sd = "
   ]
  },
  {
   "cell_type": "markdown",
   "metadata": {},
   "source": [
    "Next, plot the mean signal level with the standard deviation as error bars against time. Note that for `x = df.groupby('col').mean()`, `x.index` will return the `col`."
   ]
  },
  {
   "cell_type": "code",
   "execution_count": 12,
   "metadata": {},
   "outputs": [],
   "source": [
    "# plot signal level with standard deviation over time"
   ]
  },
  {
   "cell_type": "markdown",
   "metadata": {},
   "source": [
    "As you see there are two events: `cue` and `stim`; and two regions: `frontal` and `parietal`. If we wanted to have a plot for each event-region combination, we would need four subplots. To start, make a 2x2 subplot with decent size subplots, and make sure the plots do not overlap."
   ]
  },
  {
   "cell_type": "markdown",
   "metadata": {},
   "source": [
    "### Plot per subject"
   ]
  },
  {
   "cell_type": "markdown",
   "metadata": {},
   "source": [
    "It may be more interesting to plot the results per subject. Use a for loop to create a single plot for event = `stim` and region = `frontal` with one per subject."
   ]
  },
  {
   "cell_type": "code",
   "execution_count": 13,
   "metadata": {
    "scrolled": true
   },
   "outputs": [],
   "source": [
    "# plot signal for all subjects"
   ]
  },
  {
   "cell_type": "markdown",
   "metadata": {},
   "source": [
    "### Plot mean and subject data"
   ]
  },
  {
   "cell_type": "markdown",
   "metadata": {},
   "source": [
    "Combine the two plots above in a single plot with a dot for each observation and a solid line for the sd. As you are plotting all the data, you can leave out the error bars.  Make sure that the markers are not too big."
   ]
  },
  {
   "cell_type": "code",
   "execution_count": 14,
   "metadata": {},
   "outputs": [],
   "source": [
    "# plot mean as a line\n",
    "# plot individual observations as dots"
   ]
  },
  {
   "cell_type": "markdown",
   "metadata": {},
   "source": [
    "## Automate accessing subplots"
   ]
  },
  {
   "cell_type": "markdown",
   "metadata": {},
   "source": [
    "Create a 2x2 subplot, and make sure the the subplots are not too small."
   ]
  },
  {
   "cell_type": "code",
   "execution_count": 15,
   "metadata": {},
   "outputs": [],
   "source": [
    "# create 2x2 subplot"
   ]
  },
  {
   "cell_type": "markdown",
   "metadata": {},
   "source": [
    "Next, we will automate filling in the plots. Use for loops to iterate over the axes and set the correct title, i.e. event - region, for each plot. "
   ]
  },
  {
   "cell_type": "code",
   "execution_count": 16,
   "metadata": {},
   "outputs": [],
   "source": [
    "# use for loops to automatically set titles (event - region)"
   ]
  },
  {
   "cell_type": "markdown",
   "metadata": {},
   "source": [
    "## Automatically add plots to subplots"
   ]
  },
  {
   "cell_type": "markdown",
   "metadata": {},
   "source": [
    "You have create a plot for a single event - region combination and automated accessing the subplots. Now, combine the two to fill all the subplots, and add labels to the axes."
   ]
  },
  {
   "cell_type": "code",
   "execution_count": 17,
   "metadata": {},
   "outputs": [],
   "source": [
    "# Complex subplot"
   ]
  },
  {
   "cell_type": "markdown",
   "metadata": {},
   "source": [
    "We are losing quite some space to the axes labels. Are there any axes that could be shared among the subplots? If so, implement that and make sure there are no labels at those axes."
   ]
  },
  {
   "cell_type": "code",
   "execution_count": 18,
   "metadata": {},
   "outputs": [],
   "source": [
    "# make previous plot more space efficient"
   ]
  }
 ],
 "metadata": {
  "hide_input": false,
  "kernelspec": {
   "display_name": "Python3 (BPiDD)",
   "language": "python",
   "name": "bpidd"
  },
  "language_info": {
   "codemirror_mode": {
    "name": "ipython",
    "version": 3
   },
   "file_extension": ".py",
   "mimetype": "text/x-python",
   "name": "python",
   "nbconvert_exporter": "python",
   "pygments_lexer": "ipython3",
   "version": "3.7.0"
  },
  "toc": {
   "base_numbering": 1,
   "nav_menu": {},
   "number_sections": false,
   "sideBar": true,
   "skip_h1_title": false,
   "title_cell": "Table of Contents",
   "title_sidebar": "Contents",
   "toc_cell": false,
   "toc_position": {},
   "toc_section_display": true,
   "toc_window_display": true
  }
 },
 "nbformat": 4,
 "nbformat_minor": 2
}
