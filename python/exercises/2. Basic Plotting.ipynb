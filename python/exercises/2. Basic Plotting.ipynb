{
 "cells": [
  {
   "cell_type": "markdown",
   "metadata": {},
   "source": [
    "## 2. Basic Plotting using MatPlotLib"
   ]
  },
  {
   "cell_type": "markdown",
   "metadata": {},
   "source": [
    "In this exercise, we will be plotting experimental data in Python using 'matplotlib'. (Explain what the purpose is of this exercise, why you will want this as an alternative to excel plots, and what some of the advantages are of using this method.)"
   ]
  },
  {
   "cell_type": "markdown",
   "metadata": {},
   "source": [
    "# Exercise Outline\n",
    "* Single line plot with annotation\n",
    "* Multiple lines in one plot, using different styles and adding a legend\n",
    "* Plot mean with sd as error bars\n",
    "* Plot bar chart with mean and sd\n",
    "* Save/export plot"
   ]
  },
  {
   "cell_type": "markdown",
   "metadata": {},
   "source": [
    "First we need to import some libraries to setup the script"
   ]
  },
  {
   "cell_type": "code",
   "execution_count": 1,
   "metadata": {},
   "outputs": [
    {
     "name": "stdout",
     "output_type": "stream",
     "text": [
      "Populating the interactive namespace from numpy and matplotlib\n"
     ]
    }
   ],
   "source": [
    "%pylab inline\n",
    "import csv\n",
    "import matplotlib.pyplot as plt\n",
    "import numpy as np"
   ]
  },
  {
   "cell_type": "markdown",
   "metadata": {},
   "source": [
    "Next we have to import our data into the notebook. Our data is in a Comma Separated Values (.csv) file, we import the values into lists to use in our script. Next the values are loaded into a list. And to test that it worked, we print the list out to see the results."
   ]
  },
  {
   "cell_type": "code",
   "execution_count": 2,
   "metadata": {},
   "outputs": [
    {
     "name": "stdout",
     "output_type": "stream",
     "text": [
      "[['compound1', ' 10', ' 14'], ['compound2', ' 20', ' 570'], ['compound3', ' 30', ' 1302'], ['compound4', ' 40', ' 2838'], ['compound5', ' 50', ' 4212'], ['compound6', ' 60', ' 4590']]\n"
     ]
    }
   ],
   "source": [
    "with open('datafiles/labresults.csv', 'r') as file:\n",
    "    reader = csv.reader(file)\n",
    "    header_line = next(reader) #store the header into a separate file\n",
    "    results_list = list(reader)\n",
    "    print(results_list)"
   ]
  },
  {
   "cell_type": "markdown",
   "metadata": {},
   "source": [
    "We now have a list of tuples that contain the values for each measurement. There are three entries (or columns) in each tuple, and we want to create a graph based on this data. First define the x and the y axis. We can load this in the x and y from 'Results_list', but we do need to do some looping for that"
   ]
  },
  {
   "cell_type": "code",
   "execution_count": 3,
   "metadata": {},
   "outputs": [
    {
     "name": "stdout",
     "output_type": "stream",
     "text": [
      "[' 10', ' 20', ' 30', ' 40', ' 50', ' 60']\n",
      "[' 14', ' 570', ' 1302', ' 2838', ' 4212', ' 4590']\n"
     ]
    }
   ],
   "source": [
    "x_results = []\n",
    "y_results = []\n",
    "for entries in results_list:\n",
    "    x_results.append(int(entries[1]))\n",
    "    y_results.append(int(entries[2]))\n",
    "\n",
    "print(x_results)\n",
    "print(y_results)"
   ]
  },
  {
   "cell_type": "markdown",
   "metadata": {},
   "source": [
    "Now that we have the x and y points that need to be plotted, we can create the figure, create the axes and finally label them."
   ]
  },
  {
   "cell_type": "code",
   "execution_count": 4,
   "metadata": {},
   "outputs": [
    {
     "data": {
      "text/plain": [
       "[(0, 5000),\n",
       " Text(0,0.5,'Counts'),\n",
       " Text(0.5,0,'Concentration'),\n",
       " Text(0.5,1,'Labresults plot')]"
      ]
     },
     "execution_count": 4,
     "metadata": {},
     "output_type": "execute_result"
    },
    {
     "data": {
      "image/png": "[encoded data removed]",
      "text/plain": [
       "<Figure size 432x288 with 1 Axes>"
      ]
     },
     "metadata": {},
     "output_type": "display_data"
    }
   ],
   "source": [
    "fig = plt.figure(figsize=(6,4))\n",
    "ax = plt.gca()\n",
    "ax.set_ylim(bottom=0, top=5000, auto=True)\n",
    "ax.plot(x_results,y_results,'-sr') \n",
    "ax.set(title='Labresults plot',xlabel='Concentration',ylabel='Counts', ylim=[0,5000])"
   ]
  },
  {
   "cell_type": "code",
   "execution_count": null,
   "metadata": {},
   "outputs": [],
   "source": []
  }
 ],
 "metadata": {
  "kernelspec": {
   "display_name": "Python 3",
   "language": "python",
   "name": "python3"
  },
  "language_info": {
   "codemirror_mode": {
    "name": "ipython",
    "version": 3
   },
   "file_extension": ".py",
   "mimetype": "text/x-python",
   "name": "python",
   "nbconvert_exporter": "python",
   "pygments_lexer": "ipython3",
   "version": "3.6.2"
  }
 },
 "nbformat": 4,
 "nbformat_minor": 1
}
